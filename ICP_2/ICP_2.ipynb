{
  "nbformat": 4,
  "nbformat_minor": 0,
  "metadata": {
    "colab": {
      "name": "ICP 2.ipynb",
      "provenance": [],
      "toc_visible": true,
      "authorship_tag": "ABX9TyM7LX/sFxZX2LkP6k+82D6M",
      "include_colab_link": true
    },
    "kernelspec": {
      "name": "python3",
      "display_name": "Python 3"
    }
  },
  "cells": [
    {
      "cell_type": "markdown",
      "metadata": {
        "id": "view-in-github",
        "colab_type": "text"
      },
      "source": [
        "<a href=\"https://colab.research.google.com/github/dhairyachandra/KDM_Spring_2021/blob/main/ICP_2/ICP_2.ipynb\" target=\"_parent\"><img src=\"https://colab.research.google.com/assets/colab-badge.svg\" alt=\"Open In Colab\"/></a>"
      ]
    },
    {
      "cell_type": "code",
      "metadata": {
        "colab": {
          "base_uri": "https://localhost:8080/"
        },
        "id": "B1Vg1JZ2REBk",
        "outputId": "d571e3ee-0ee7-4f68-e77c-beb3794c2e6f"
      },
      "source": [
        "import nltk\n",
        "nltk.download('punkt')\n",
        "nltk.download('averaged_perceptron_tagger')\n",
        "import spacy\n",
        "import en_core_web_sm"
      ],
      "execution_count": 2,
      "outputs": [
        {
          "output_type": "stream",
          "text": [
            "[nltk_data] Downloading package punkt to /root/nltk_data...\n",
            "[nltk_data]   Unzipping tokenizers/punkt.zip.\n",
            "[nltk_data] Downloading package averaged_perceptron_tagger to\n",
            "[nltk_data]     /root/nltk_data...\n",
            "[nltk_data]   Unzipping taggers/averaged_perceptron_tagger.zip.\n"
          ],
          "name": "stdout"
        }
      ]
    },
    {
      "cell_type": "code",
      "metadata": {
        "colab": {
          "base_uri": "https://localhost:8080/",
          "height": 122
        },
        "id": "hRwL3MgwP_qd",
        "outputId": "d47a2bf5-fbdf-4612-8178-bebf916df96a"
      },
      "source": [
        "# Given text data\n",
        "\n",
        "input = \"i Jinping is a Chinese politician who has served as General Secretary of the Chinese Communist Party (CCP) and Chairman of the Central Military Commission (CMC) since 2012, and President of the People's Republic of China (PRC) since 2013. He has been the paramount leader of China, the most prominent political leader in the country, since 2012. The son of Chinese Communist veteran Xi Zhongxun, he was exiled to rural Yanchuan County as a teenager following his father's purge during the Cultural Revolutionandlived in a cave in the village of Liangjiahe, where he joined the CCP and worked as the party secretary.\"\n",
        "input"
      ],
      "execution_count": 3,
      "outputs": [
        {
          "output_type": "execute_result",
          "data": {
            "application/vnd.google.colaboratory.intrinsic+json": {
              "type": "string"
            },
            "text/plain": [
              "\"i Jinping is a Chinese politician who has served as General Secretary of the Chinese Communist Party (CCP) and Chairman of the Central Military Commission (CMC) since 2012, and President of the People's Republic of China (PRC) since 2013. He has been the paramount leader of China, the most prominent political leader in the country, since 2012. The son of Chinese Communist veteran Xi Zhongxun, he was exiled to rural Yanchuan County as a teenager following his father's purge during the Cultural Revolutionandlived in a cave in the village of Liangjiahe, where he joined the CCP and worked as the party secretary.\""
            ]
          },
          "metadata": {
            "tags": []
          },
          "execution_count": 3
        }
      ]
    },
    {
      "cell_type": "markdown",
      "metadata": {
        "id": "AZ6eu4wURJhn"
      },
      "source": [
        "## Task 1: Part-of-speech (POS) tagger"
      ]
    },
    {
      "cell_type": "code",
      "metadata": {
        "colab": {
          "base_uri": "https://localhost:8080/"
        },
        "id": "zyT73QVIQNr3",
        "outputId": "479354e8-f877-4f28-b35f-d9c864450cb7"
      },
      "source": [
        "tokens = nltk.word_tokenize(input)\n",
        "print(nltk.pos_tag(tokens))"
      ],
      "execution_count": 9,
      "outputs": [
        {
          "output_type": "stream",
          "text": [
            "[('i', 'NN'), ('Jinping', 'NNP'), ('is', 'VBZ'), ('a', 'DT'), ('Chinese', 'JJ'), ('politician', 'NN'), ('who', 'WP'), ('has', 'VBZ'), ('served', 'VBN'), ('as', 'IN'), ('General', 'NNP'), ('Secretary', 'NNP'), ('of', 'IN'), ('the', 'DT'), ('Chinese', 'NNP'), ('Communist', 'NNP'), ('Party', 'NNP'), ('(', '('), ('CCP', 'NNP'), (')', ')'), ('and', 'CC'), ('Chairman', 'NNP'), ('of', 'IN'), ('the', 'DT'), ('Central', 'NNP'), ('Military', 'NNP'), ('Commission', 'NNP'), ('(', '('), ('CMC', 'NNP'), (')', ')'), ('since', 'IN'), ('2012', 'CD'), (',', ','), ('and', 'CC'), ('President', 'NNP'), ('of', 'IN'), ('the', 'DT'), ('People', 'NNP'), (\"'s\", 'POS'), ('Republic', 'NNP'), ('of', 'IN'), ('China', 'NNP'), ('(', '('), ('PRC', 'NNP'), (')', ')'), ('since', 'IN'), ('2013', 'CD'), ('.', '.'), ('He', 'PRP'), ('has', 'VBZ'), ('been', 'VBN'), ('the', 'DT'), ('paramount', 'JJ'), ('leader', 'NN'), ('of', 'IN'), ('China', 'NNP'), (',', ','), ('the', 'DT'), ('most', 'RBS'), ('prominent', 'JJ'), ('political', 'JJ'), ('leader', 'NN'), ('in', 'IN'), ('the', 'DT'), ('country', 'NN'), (',', ','), ('since', 'IN'), ('2012', 'CD'), ('.', '.'), ('The', 'DT'), ('son', 'NN'), ('of', 'IN'), ('Chinese', 'JJ'), ('Communist', 'NNP'), ('veteran', 'NN'), ('Xi', 'NNP'), ('Zhongxun', 'NNP'), (',', ','), ('he', 'PRP'), ('was', 'VBD'), ('exiled', 'VBN'), ('to', 'TO'), ('rural', 'JJ'), ('Yanchuan', 'NNP'), ('County', 'NNP'), ('as', 'IN'), ('a', 'DT'), ('teenager', 'NN'), ('following', 'VBG'), ('his', 'PRP$'), ('father', 'NN'), (\"'s\", 'POS'), ('purge', 'NN'), ('during', 'IN'), ('the', 'DT'), ('Cultural', 'NNP'), ('Revolutionandlived', 'NNP'), ('in', 'IN'), ('a', 'DT'), ('cave', 'NN'), ('in', 'IN'), ('the', 'DT'), ('village', 'NN'), ('of', 'IN'), ('Liangjiahe', 'NNP'), (',', ','), ('where', 'WRB'), ('he', 'PRP'), ('joined', 'VBD'), ('the', 'DT'), ('CCP', 'NNP'), ('and', 'CC'), ('worked', 'VBD'), ('as', 'IN'), ('the', 'DT'), ('party', 'NN'), ('secretary', 'NN'), ('.', '.')]\n"
          ],
          "name": "stdout"
        }
      ]
    },
    {
      "cell_type": "markdown",
      "metadata": {
        "id": "q7jBfcfTRmEZ"
      },
      "source": [
        "## Task 2: Named entity recognizer (NER)"
      ]
    },
    {
      "cell_type": "code",
      "metadata": {
        "colab": {
          "base_uri": "https://localhost:8080/"
        },
        "id": "4uNcXSUWRW4D",
        "outputId": "867ad3c9-b7cf-4bd4-cb8d-35a3c44e1d18"
      },
      "source": [
        "nlp = en_core_web_sm.load()\n",
        "doc = nlp(input)\n",
        "print(\"Named entity recognizer (NER):\\n\", [(X, X.ent_type_) for X in doc])"
      ],
      "execution_count": 10,
      "outputs": [
        {
          "output_type": "stream",
          "text": [
            "Named entity recognizer (NER):\n",
            " [(i, ''), (Jinping, ''), (is, ''), (a, ''), (Chinese, 'NORP'), (politician, ''), (who, ''), (has, ''), (served, ''), (as, ''), (General, ''), (Secretary, ''), (of, ''), (the, 'ORG'), (Chinese, 'ORG'), (Communist, 'ORG'), (Party, 'ORG'), ((, ''), (CCP, 'ORG'), (), ''), (and, ''), (Chairman, ''), (of, ''), (the, 'ORG'), (Central, 'ORG'), (Military, 'ORG'), (Commission, 'ORG'), ((, ''), (CMC, ''), (), ''), (since, ''), (2012, 'DATE'), (,, ''), (and, ''), (President, ''), (of, ''), (the, 'GPE'), (People, 'GPE'), ('s, 'GPE'), (Republic, 'GPE'), (of, 'GPE'), (China, 'GPE'), ((, ''), (PRC, 'GPE'), (), ''), (since, ''), (2013, 'DATE'), (., ''), (He, ''), (has, ''), (been, ''), (the, ''), (paramount, ''), (leader, ''), (of, ''), (China, 'GPE'), (,, ''), (the, ''), (most, ''), (prominent, ''), (political, ''), (leader, ''), (in, ''), (the, ''), (country, ''), (,, ''), (since, ''), (2012, 'DATE'), (., ''), (The, ''), (son, ''), (of, ''), (Chinese, 'NORP'), (Communist, 'NORP'), (veteran, ''), (Xi, 'PERSON'), (Zhongxun, 'PERSON'), (,, ''), (he, ''), (was, ''), (exiled, ''), (to, ''), (rural, ''), (Yanchuan, 'GPE'), (County, 'GPE'), (as, ''), (a, ''), (teenager, ''), (following, ''), (his, ''), (father, ''), ('s, ''), (purge, ''), (during, ''), (the, 'ORG'), (Cultural, 'ORG'), (Revolutionandlived, 'ORG'), (in, ''), (a, ''), (cave, ''), (in, ''), (the, ''), (village, ''), (of, ''), (Liangjiahe, 'GPE'), (,, ''), (where, ''), (he, ''), (joined, ''), (the, ''), (CCP, 'ORG'), (and, ''), (worked, ''), (as, ''), (the, ''), (party, ''), (secretary, ''), (., '')]\n"
          ],
          "name": "stdout"
        }
      ]
    },
    {
      "cell_type": "markdown",
      "metadata": {
        "id": "EPBFs5kZVdpT"
      },
      "source": [
        "## Task 3: Lemmatization "
      ]
    },
    {
      "cell_type": "code",
      "metadata": {
        "colab": {
          "base_uri": "https://localhost:8080/"
        },
        "id": "hYhIjIBjWiBR",
        "outputId": "0b36a23e-c1d2-4204-d898-a00de87d5bce"
      },
      "source": [
        "from textblob import TextBlob, Word\n",
        "nltk.download('wordnet')"
      ],
      "execution_count": 11,
      "outputs": [
        {
          "output_type": "stream",
          "text": [
            "[nltk_data] Downloading package wordnet to /root/nltk_data...\n",
            "[nltk_data]   Package wordnet is already up-to-date!\n"
          ],
          "name": "stdout"
        },
        {
          "output_type": "execute_result",
          "data": {
            "text/plain": [
              "True"
            ]
          },
          "metadata": {
            "tags": []
          },
          "execution_count": 11
        }
      ]
    },
    {
      "cell_type": "code",
      "metadata": {
        "colab": {
          "base_uri": "https://localhost:8080/",
          "height": 122
        },
        "id": "AqAJzAg6chm0",
        "outputId": "478ee110-80b0-43aa-94b3-d127fb8a669f"
      },
      "source": [
        "# Original Text\n",
        "\n",
        "input"
      ],
      "execution_count": 12,
      "outputs": [
        {
          "output_type": "execute_result",
          "data": {
            "application/vnd.google.colaboratory.intrinsic+json": {
              "type": "string"
            },
            "text/plain": [
              "\"i Jinping is a Chinese politician who has served as General Secretary of the Chinese Communist Party (CCP) and Chairman of the Central Military Commission (CMC) since 2012, and President of the People's Republic of China (PRC) since 2013. He has been the paramount leader of China, the most prominent political leader in the country, since 2012. The son of Chinese Communist veteran Xi Zhongxun, he was exiled to rural Yanchuan County as a teenager following his father's purge during the Cultural Revolutionandlived in a cave in the village of Liangjiahe, where he joined the CCP and worked as the party secretary.\""
            ]
          },
          "metadata": {
            "tags": []
          },
          "execution_count": 12
        }
      ]
    },
    {
      "cell_type": "code",
      "metadata": {
        "colab": {
          "base_uri": "https://localhost:8080/",
          "height": 105
        },
        "id": "iaYIzxsxbV6W",
        "outputId": "1f781652-ebe9-4c98-a528-ff64e56fa7c9"
      },
      "source": [
        "# Lemmatized text\n",
        "\n",
        "sent = TextBlob(input)\n",
        "\" \". join([w.lemmatize() for w in sent.words])"
      ],
      "execution_count": 13,
      "outputs": [
        {
          "output_type": "execute_result",
          "data": {
            "application/vnd.google.colaboratory.intrinsic+json": {
              "type": "string"
            },
            "text/plain": [
              "\"i Jinping is a Chinese politician who ha served a General Secretary of the Chinese Communist Party CCP and Chairman of the Central Military Commission CMC since 2012 and President of the People 's Republic of China PRC since 2013 He ha been the paramount leader of China the most prominent political leader in the country since 2012 The son of Chinese Communist veteran Xi Zhongxun he wa exiled to rural Yanchuan County a a teenager following his father 's purge during the Cultural Revolutionandlived in a cave in the village of Liangjiahe where he joined the CCP and worked a the party secretary\""
            ]
          },
          "metadata": {
            "tags": []
          },
          "execution_count": 13
        }
      ]
    },
    {
      "cell_type": "markdown",
      "metadata": {
        "id": "1wGjw6W4earg"
      },
      "source": [
        "## Task 4: Co-Reference Resolution"
      ]
    },
    {
      "cell_type": "code",
      "metadata": {
        "id": "evm6BL2moN7p"
      },
      "source": [
        "!pip install spacy\n",
        "!pip install neuralcoref\n",
        "!python -m spacy download en"
      ],
      "execution_count": null,
      "outputs": []
    },
    {
      "cell_type": "code",
      "metadata": {
        "id": "QOuE7UMDfINo"
      },
      "source": [
        "!git clone https://github.com/huggingface/neuralcoref.git\n",
        "!pip install -U spacy\n",
        "!python -m spacy download en\n",
        "\n",
        "import spacy\n",
        "nlp = spacy.load('en')\n",
        "\n",
        "%cd neuralcoref\n",
        "\n",
        "!pip install -r requirements.txt\n",
        "!pip install -e .\n",
        "\n",
        "import neuralcoref\n",
        "neuralcoref.add_to_pipe(nlp)"
      ],
      "execution_count": null,
      "outputs": []
    },
    {
      "cell_type": "code",
      "metadata": {
        "colab": {
          "base_uri": "https://localhost:8080/"
        },
        "id": "sWfnwg2keora",
        "outputId": "209b79ab-afa1-47b2-c4b9-4a9be5220583"
      },
      "source": [
        "def printMentions(doc):\n",
        "    print('\\nAll the \"mentions\" in the given text:')\n",
        "    for cluster in doc._.coref_clusters:\n",
        "        print(cluster.mentions)\n",
        "\n",
        "def printPronounReferences(doc):\n",
        "    print('\\nPronouns and their references:')\n",
        "    for token in doc:\n",
        "        if token.pos_ == 'PRON' and token._.in_coref:\n",
        "            for cluster in token._.coref_clusters:\n",
        "                print(token.text + \" => \" + cluster.main.text)\n",
        "\n",
        "def processDoc(text):\n",
        "    doc = nlp(text)\n",
        "    if doc._.has_coref:\n",
        "        print(\"Input: \" + text)\n",
        "        printMentions(doc)\n",
        "        printPronounReferences(doc)\n",
        "\n",
        "if __name__ == \"__main__\":\n",
        "    processDoc(input)"
      ],
      "execution_count": 6,
      "outputs": [
        {
          "output_type": "stream",
          "text": [
            "Input: i Jinping is a Chinese politician who has served as General Secretary of the Chinese Communist Party (CCP) and Chairman of the Central Military Commission (CMC) since 2012, and President of the People's Republic of China (PRC) since 2013. He has been the paramount leader of China, the most prominent political leader in the country, since 2012. The son of Chinese Communist veteran Xi Zhongxun, he was exiled to rural Yanchuan County as a teenager following his father's purge during the Cultural Revolutionandlived in a cave in the village of Liangjiahe, where he joined the CCP and worked as the party secretary.\n",
            "\n",
            "All the \"mentions\" in the given text:\n",
            "[Jinping, He, he, his, he]\n",
            "[China, China, the country]\n",
            "\n",
            "Pronouns and their references:\n",
            "He => Jinping\n",
            "he => Jinping\n",
            "he => Jinping\n"
          ],
          "name": "stdout"
        }
      ]
    },
    {
      "cell_type": "code",
      "metadata": {
        "colab": {
          "base_uri": "https://localhost:8080/"
        },
        "id": "GmhTAYg0fRfh",
        "outputId": "3e8bb1f6-1c13-47cd-90d4-b64d79802faa"
      },
      "source": [
        "doc1 = nlp(input)\n",
        "print(doc1._.coref_clusters)"
      ],
      "execution_count": 4,
      "outputs": [
        {
          "output_type": "stream",
          "text": [
            "[Jinping: [Jinping, He, he, his, he], China: [China, China, the country]]\n"
          ],
          "name": "stdout"
        }
      ]
    },
    {
      "cell_type": "markdown",
      "metadata": {
        "id": "2zPIlkBrhGBN"
      },
      "source": [
        "## Task 5: Parsing\n"
      ]
    },
    {
      "cell_type": "code",
      "metadata": {
        "id": "7oDSjEEbfavI"
      },
      "source": [
        "print('constituency parse of first sentence')\n",
        "constituency_parse = input.parseTree\n",
        "print(constituency_parse)"
      ],
      "execution_count": null,
      "outputs": []
    }
  ]
}