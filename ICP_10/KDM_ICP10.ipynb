{
  "nbformat": 4,
  "nbformat_minor": 0,
  "metadata": {
    "colab": {
      "name": "KDM_ICP10.ipynb",
      "provenance": [],
      "include_colab_link": true
    },
    "kernelspec": {
      "name": "python3",
      "display_name": "Python 3"
    },
    "language_info": {
      "name": "python"
    },
    "accelerator": "GPU"
  },
  "cells": [
    {
      "cell_type": "markdown",
      "metadata": {
        "id": "view-in-github",
        "colab_type": "text"
      },
      "source": [
        "<a href=\"https://colab.research.google.com/github/dhairyachandra/KDM_Spring_2021/blob/main/ICP_10/KDM_ICP10.ipynb\" target=\"_parent\"><img src=\"https://colab.research.google.com/assets/colab-badge.svg\" alt=\"Open In Colab\"/></a>"
      ]
    },
    {
      "cell_type": "markdown",
      "metadata": {
        "id": "mwAluEinNQ95"
      },
      "source": [
        "# Given Code\n"
      ]
    },
    {
      "cell_type": "markdown",
      "metadata": {
        "id": "ret_y-o5Z5i1"
      },
      "source": [
        "**Import All Required Packages**"
      ]
    },
    {
      "cell_type": "code",
      "metadata": {
        "colab": {
          "base_uri": "https://localhost:8080/"
        },
        "id": "o9KlxIM_Z8Kb",
        "outputId": "90bd79e2-aa9b-491f-800b-4da4ac3296cb"
      },
      "source": [
        "import pandas as pd\n",
        "import numpy as np\n",
        "import seaborn as sns\n",
        "import re\n",
        "import string\n",
        "from string import punctuation\n",
        "import nltk\n",
        "from nltk.corpus import stopwords\n",
        "nltk.download('stopwords')\n",
        "\n",
        "\n",
        "import matplotlib.pyplot as plt\n",
        "from sklearn.model_selection import train_test_split\n",
        "from sklearn.feature_extraction.text import CountVectorizer\n",
        "from sklearn.feature_extraction.text import TfidfTransformer\n",
        "\n",
        "import tensorflow as tf\n",
        "from tensorflow.keras.models import Sequential\n",
        "from tensorflow.keras.layers import Dense, Activation, Dropout\n",
        "from tensorflow.keras.callbacks import EarlyStopping"
      ],
      "execution_count": 2,
      "outputs": [
        {
          "output_type": "stream",
          "text": [
            "[nltk_data] Downloading package stopwords to /root/nltk_data...\n",
            "[nltk_data]   Unzipping corpora/stopwords.zip.\n"
          ],
          "name": "stdout"
        }
      ]
    },
    {
      "cell_type": "markdown",
      "metadata": {
        "id": "gZ8__7hnaJAH"
      },
      "source": [
        "**Download Dataset**"
      ]
    },
    {
      "cell_type": "code",
      "metadata": {
        "colab": {
          "base_uri": "https://localhost:8080/"
        },
        "id": "VLl8z7VEjpMw",
        "outputId": "d500b763-fdcd-46a2-c9c9-295db9c2359f"
      },
      "source": [
        "!wget https://raw.githubusercontent.com/towardsai/tutorials/master/sentiment_analysis_tutorial/women_clothing_review.csv"
      ],
      "execution_count": 3,
      "outputs": [
        {
          "output_type": "stream",
          "text": [
            "--2021-04-12 19:24:55--  https://raw.githubusercontent.com/towardsai/tutorials/master/sentiment_analysis_tutorial/women_clothing_review.csv\n",
            "Resolving raw.githubusercontent.com (raw.githubusercontent.com)... 185.199.108.133, 185.199.109.133, 185.199.110.133, ...\n",
            "Connecting to raw.githubusercontent.com (raw.githubusercontent.com)|185.199.108.133|:443... connected.\n",
            "HTTP request sent, awaiting response... 200 OK\n",
            "Length: 8480236 (8.1M) [text/plain]\n",
            "Saving to: ‘women_clothing_review.csv’\n",
            "\n",
            "women_clothing_revi 100%[===================>]   8.09M  29.8MB/s    in 0.3s    \n",
            "\n",
            "2021-04-12 19:24:55 (29.8 MB/s) - ‘women_clothing_review.csv’ saved [8480236/8480236]\n",
            "\n"
          ],
          "name": "stdout"
        }
      ]
    },
    {
      "cell_type": "markdown",
      "metadata": {
        "id": "IW84PygQaVal"
      },
      "source": [
        ""
      ]
    },
    {
      "cell_type": "markdown",
      "metadata": {
        "id": "8bY5ZD3_aVpT"
      },
      "source": [
        "**Read data from csv**"
      ]
    },
    {
      "cell_type": "code",
      "metadata": {
        "colab": {
          "base_uri": "https://localhost:8080/",
          "height": 289
        },
        "id": "aL6ij3BbaC5A",
        "outputId": "eeb61860-0fba-428a-edcb-8be5ae0d981a"
      },
      "source": [
        "df = pd.read_csv('women_clothing_review.csv')\n",
        "df.head()"
      ],
      "execution_count": 4,
      "outputs": [
        {
          "output_type": "execute_result",
          "data": {
            "text/html": [
              "<div>\n",
              "<style scoped>\n",
              "    .dataframe tbody tr th:only-of-type {\n",
              "        vertical-align: middle;\n",
              "    }\n",
              "\n",
              "    .dataframe tbody tr th {\n",
              "        vertical-align: top;\n",
              "    }\n",
              "\n",
              "    .dataframe thead th {\n",
              "        text-align: right;\n",
              "    }\n",
              "</style>\n",
              "<table border=\"1\" class=\"dataframe\">\n",
              "  <thead>\n",
              "    <tr style=\"text-align: right;\">\n",
              "      <th></th>\n",
              "      <th>Unnamed: 0</th>\n",
              "      <th>Clothing ID</th>\n",
              "      <th>Age</th>\n",
              "      <th>Title</th>\n",
              "      <th>Review Text</th>\n",
              "      <th>Rating</th>\n",
              "      <th>Recommended IND</th>\n",
              "      <th>Positive Feedback Count</th>\n",
              "      <th>Division Name</th>\n",
              "      <th>Department Name</th>\n",
              "      <th>Class Name</th>\n",
              "    </tr>\n",
              "  </thead>\n",
              "  <tbody>\n",
              "    <tr>\n",
              "      <th>0</th>\n",
              "      <td>0</td>\n",
              "      <td>767</td>\n",
              "      <td>33</td>\n",
              "      <td>NaN</td>\n",
              "      <td>Absolutely wonderful - silky and sexy and comf...</td>\n",
              "      <td>4</td>\n",
              "      <td>1</td>\n",
              "      <td>0</td>\n",
              "      <td>Initmates</td>\n",
              "      <td>Intimate</td>\n",
              "      <td>Intimates</td>\n",
              "    </tr>\n",
              "    <tr>\n",
              "      <th>1</th>\n",
              "      <td>1</td>\n",
              "      <td>1080</td>\n",
              "      <td>34</td>\n",
              "      <td>NaN</td>\n",
              "      <td>Love this dress!  it's sooo pretty.  i happene...</td>\n",
              "      <td>5</td>\n",
              "      <td>1</td>\n",
              "      <td>4</td>\n",
              "      <td>General</td>\n",
              "      <td>Dresses</td>\n",
              "      <td>Dresses</td>\n",
              "    </tr>\n",
              "    <tr>\n",
              "      <th>2</th>\n",
              "      <td>2</td>\n",
              "      <td>1077</td>\n",
              "      <td>60</td>\n",
              "      <td>Some major design flaws</td>\n",
              "      <td>I had such high hopes for this dress and reall...</td>\n",
              "      <td>3</td>\n",
              "      <td>0</td>\n",
              "      <td>0</td>\n",
              "      <td>General</td>\n",
              "      <td>Dresses</td>\n",
              "      <td>Dresses</td>\n",
              "    </tr>\n",
              "    <tr>\n",
              "      <th>3</th>\n",
              "      <td>3</td>\n",
              "      <td>1049</td>\n",
              "      <td>50</td>\n",
              "      <td>My favorite buy!</td>\n",
              "      <td>I love, love, love this jumpsuit. it's fun, fl...</td>\n",
              "      <td>5</td>\n",
              "      <td>1</td>\n",
              "      <td>0</td>\n",
              "      <td>General Petite</td>\n",
              "      <td>Bottoms</td>\n",
              "      <td>Pants</td>\n",
              "    </tr>\n",
              "    <tr>\n",
              "      <th>4</th>\n",
              "      <td>4</td>\n",
              "      <td>847</td>\n",
              "      <td>47</td>\n",
              "      <td>Flattering shirt</td>\n",
              "      <td>This shirt is very flattering to all due to th...</td>\n",
              "      <td>5</td>\n",
              "      <td>1</td>\n",
              "      <td>6</td>\n",
              "      <td>General</td>\n",
              "      <td>Tops</td>\n",
              "      <td>Blouses</td>\n",
              "    </tr>\n",
              "  </tbody>\n",
              "</table>\n",
              "</div>"
            ],
            "text/plain": [
              "   Unnamed: 0  Clothing ID  Age  ...   Division Name Department Name  Class Name\n",
              "0           0          767   33  ...       Initmates        Intimate   Intimates\n",
              "1           1         1080   34  ...         General         Dresses     Dresses\n",
              "2           2         1077   60  ...         General         Dresses     Dresses\n",
              "3           3         1049   50  ...  General Petite         Bottoms       Pants\n",
              "4           4          847   47  ...         General            Tops     Blouses\n",
              "\n",
              "[5 rows x 11 columns]"
            ]
          },
          "metadata": {
            "tags": []
          },
          "execution_count": 4
        }
      ]
    },
    {
      "cell_type": "code",
      "metadata": {
        "colab": {
          "base_uri": "https://localhost:8080/"
        },
        "id": "2Q0nlqxjad_a",
        "outputId": "b06973e8-b233-4b20-db03-ab38bb805cf6"
      },
      "source": [
        "df.shape"
      ],
      "execution_count": 5,
      "outputs": [
        {
          "output_type": "execute_result",
          "data": {
            "text/plain": [
              "(23486, 11)"
            ]
          },
          "metadata": {
            "tags": []
          },
          "execution_count": 5
        }
      ]
    },
    {
      "cell_type": "markdown",
      "metadata": {
        "id": "qka6oIF_ahtK"
      },
      "source": [
        "**Drop unnecessary columns**"
      ]
    },
    {
      "cell_type": "code",
      "metadata": {
        "colab": {
          "base_uri": "https://localhost:8080/",
          "height": 436
        },
        "id": "iufS4IJIaiF4",
        "outputId": "8ea68b46-13cd-4c66-e8e1-057668b9dc5c"
      },
      "source": [
        "df = df.drop(['Title', 'Positive Feedback Count', 'Unnamed: 0', ], axis=1)\n",
        "df.dropna(inplace=True)\n",
        "print(df.shape)\n",
        "df"
      ],
      "execution_count": 6,
      "outputs": [
        {
          "output_type": "stream",
          "text": [
            "(22628, 8)\n"
          ],
          "name": "stdout"
        },
        {
          "output_type": "execute_result",
          "data": {
            "text/html": [
              "<div>\n",
              "<style scoped>\n",
              "    .dataframe tbody tr th:only-of-type {\n",
              "        vertical-align: middle;\n",
              "    }\n",
              "\n",
              "    .dataframe tbody tr th {\n",
              "        vertical-align: top;\n",
              "    }\n",
              "\n",
              "    .dataframe thead th {\n",
              "        text-align: right;\n",
              "    }\n",
              "</style>\n",
              "<table border=\"1\" class=\"dataframe\">\n",
              "  <thead>\n",
              "    <tr style=\"text-align: right;\">\n",
              "      <th></th>\n",
              "      <th>Clothing ID</th>\n",
              "      <th>Age</th>\n",
              "      <th>Review Text</th>\n",
              "      <th>Rating</th>\n",
              "      <th>Recommended IND</th>\n",
              "      <th>Division Name</th>\n",
              "      <th>Department Name</th>\n",
              "      <th>Class Name</th>\n",
              "    </tr>\n",
              "  </thead>\n",
              "  <tbody>\n",
              "    <tr>\n",
              "      <th>0</th>\n",
              "      <td>767</td>\n",
              "      <td>33</td>\n",
              "      <td>Absolutely wonderful - silky and sexy and comf...</td>\n",
              "      <td>4</td>\n",
              "      <td>1</td>\n",
              "      <td>Initmates</td>\n",
              "      <td>Intimate</td>\n",
              "      <td>Intimates</td>\n",
              "    </tr>\n",
              "    <tr>\n",
              "      <th>1</th>\n",
              "      <td>1080</td>\n",
              "      <td>34</td>\n",
              "      <td>Love this dress!  it's sooo pretty.  i happene...</td>\n",
              "      <td>5</td>\n",
              "      <td>1</td>\n",
              "      <td>General</td>\n",
              "      <td>Dresses</td>\n",
              "      <td>Dresses</td>\n",
              "    </tr>\n",
              "    <tr>\n",
              "      <th>2</th>\n",
              "      <td>1077</td>\n",
              "      <td>60</td>\n",
              "      <td>I had such high hopes for this dress and reall...</td>\n",
              "      <td>3</td>\n",
              "      <td>0</td>\n",
              "      <td>General</td>\n",
              "      <td>Dresses</td>\n",
              "      <td>Dresses</td>\n",
              "    </tr>\n",
              "    <tr>\n",
              "      <th>3</th>\n",
              "      <td>1049</td>\n",
              "      <td>50</td>\n",
              "      <td>I love, love, love this jumpsuit. it's fun, fl...</td>\n",
              "      <td>5</td>\n",
              "      <td>1</td>\n",
              "      <td>General Petite</td>\n",
              "      <td>Bottoms</td>\n",
              "      <td>Pants</td>\n",
              "    </tr>\n",
              "    <tr>\n",
              "      <th>4</th>\n",
              "      <td>847</td>\n",
              "      <td>47</td>\n",
              "      <td>This shirt is very flattering to all due to th...</td>\n",
              "      <td>5</td>\n",
              "      <td>1</td>\n",
              "      <td>General</td>\n",
              "      <td>Tops</td>\n",
              "      <td>Blouses</td>\n",
              "    </tr>\n",
              "    <tr>\n",
              "      <th>...</th>\n",
              "      <td>...</td>\n",
              "      <td>...</td>\n",
              "      <td>...</td>\n",
              "      <td>...</td>\n",
              "      <td>...</td>\n",
              "      <td>...</td>\n",
              "      <td>...</td>\n",
              "      <td>...</td>\n",
              "    </tr>\n",
              "    <tr>\n",
              "      <th>23481</th>\n",
              "      <td>1104</td>\n",
              "      <td>34</td>\n",
              "      <td>I was very happy to snag this dress at such a ...</td>\n",
              "      <td>5</td>\n",
              "      <td>1</td>\n",
              "      <td>General Petite</td>\n",
              "      <td>Dresses</td>\n",
              "      <td>Dresses</td>\n",
              "    </tr>\n",
              "    <tr>\n",
              "      <th>23482</th>\n",
              "      <td>862</td>\n",
              "      <td>48</td>\n",
              "      <td>It reminds me of maternity clothes. soft, stre...</td>\n",
              "      <td>3</td>\n",
              "      <td>1</td>\n",
              "      <td>General Petite</td>\n",
              "      <td>Tops</td>\n",
              "      <td>Knits</td>\n",
              "    </tr>\n",
              "    <tr>\n",
              "      <th>23483</th>\n",
              "      <td>1104</td>\n",
              "      <td>31</td>\n",
              "      <td>This fit well, but the top was very see throug...</td>\n",
              "      <td>3</td>\n",
              "      <td>0</td>\n",
              "      <td>General Petite</td>\n",
              "      <td>Dresses</td>\n",
              "      <td>Dresses</td>\n",
              "    </tr>\n",
              "    <tr>\n",
              "      <th>23484</th>\n",
              "      <td>1084</td>\n",
              "      <td>28</td>\n",
              "      <td>I bought this dress for a wedding i have this ...</td>\n",
              "      <td>3</td>\n",
              "      <td>1</td>\n",
              "      <td>General</td>\n",
              "      <td>Dresses</td>\n",
              "      <td>Dresses</td>\n",
              "    </tr>\n",
              "    <tr>\n",
              "      <th>23485</th>\n",
              "      <td>1104</td>\n",
              "      <td>52</td>\n",
              "      <td>This dress in a lovely platinum is feminine an...</td>\n",
              "      <td>5</td>\n",
              "      <td>1</td>\n",
              "      <td>General Petite</td>\n",
              "      <td>Dresses</td>\n",
              "      <td>Dresses</td>\n",
              "    </tr>\n",
              "  </tbody>\n",
              "</table>\n",
              "<p>22628 rows × 8 columns</p>\n",
              "</div>"
            ],
            "text/plain": [
              "       Clothing ID  Age  ... Department Name  Class Name\n",
              "0              767   33  ...        Intimate   Intimates\n",
              "1             1080   34  ...         Dresses     Dresses\n",
              "2             1077   60  ...         Dresses     Dresses\n",
              "3             1049   50  ...         Bottoms       Pants\n",
              "4              847   47  ...            Tops     Blouses\n",
              "...            ...  ...  ...             ...         ...\n",
              "23481         1104   34  ...         Dresses     Dresses\n",
              "23482          862   48  ...            Tops       Knits\n",
              "23483         1104   31  ...         Dresses     Dresses\n",
              "23484         1084   28  ...         Dresses     Dresses\n",
              "23485         1104   52  ...         Dresses     Dresses\n",
              "\n",
              "[22628 rows x 8 columns]"
            ]
          },
          "metadata": {
            "tags": []
          },
          "execution_count": 6
        }
      ]
    },
    {
      "cell_type": "markdown",
      "metadata": {
        "id": "5lwWNIZMazte"
      },
      "source": [
        "**Calculation of Polarity**\n"
      ]
    },
    {
      "cell_type": "code",
      "metadata": {
        "colab": {
          "base_uri": "https://localhost:8080/",
          "height": 204
        },
        "id": "1jPK7Hk5a4Q1",
        "outputId": "7c2de3d1-fb8b-4c67-a31e-5565068b7a67"
      },
      "source": [
        "df['Polarity_Rating'] = df['Rating'].apply(lambda x: 'Positive' if x > 3 else('Neutral' if x == 3  else 'Negative'))\n",
        "df.head()"
      ],
      "execution_count": 7,
      "outputs": [
        {
          "output_type": "execute_result",
          "data": {
            "text/html": [
              "<div>\n",
              "<style scoped>\n",
              "    .dataframe tbody tr th:only-of-type {\n",
              "        vertical-align: middle;\n",
              "    }\n",
              "\n",
              "    .dataframe tbody tr th {\n",
              "        vertical-align: top;\n",
              "    }\n",
              "\n",
              "    .dataframe thead th {\n",
              "        text-align: right;\n",
              "    }\n",
              "</style>\n",
              "<table border=\"1\" class=\"dataframe\">\n",
              "  <thead>\n",
              "    <tr style=\"text-align: right;\">\n",
              "      <th></th>\n",
              "      <th>Clothing ID</th>\n",
              "      <th>Age</th>\n",
              "      <th>Review Text</th>\n",
              "      <th>Rating</th>\n",
              "      <th>Recommended IND</th>\n",
              "      <th>Division Name</th>\n",
              "      <th>Department Name</th>\n",
              "      <th>Class Name</th>\n",
              "      <th>Polarity_Rating</th>\n",
              "    </tr>\n",
              "  </thead>\n",
              "  <tbody>\n",
              "    <tr>\n",
              "      <th>0</th>\n",
              "      <td>767</td>\n",
              "      <td>33</td>\n",
              "      <td>Absolutely wonderful - silky and sexy and comf...</td>\n",
              "      <td>4</td>\n",
              "      <td>1</td>\n",
              "      <td>Initmates</td>\n",
              "      <td>Intimate</td>\n",
              "      <td>Intimates</td>\n",
              "      <td>Positive</td>\n",
              "    </tr>\n",
              "    <tr>\n",
              "      <th>1</th>\n",
              "      <td>1080</td>\n",
              "      <td>34</td>\n",
              "      <td>Love this dress!  it's sooo pretty.  i happene...</td>\n",
              "      <td>5</td>\n",
              "      <td>1</td>\n",
              "      <td>General</td>\n",
              "      <td>Dresses</td>\n",
              "      <td>Dresses</td>\n",
              "      <td>Positive</td>\n",
              "    </tr>\n",
              "    <tr>\n",
              "      <th>2</th>\n",
              "      <td>1077</td>\n",
              "      <td>60</td>\n",
              "      <td>I had such high hopes for this dress and reall...</td>\n",
              "      <td>3</td>\n",
              "      <td>0</td>\n",
              "      <td>General</td>\n",
              "      <td>Dresses</td>\n",
              "      <td>Dresses</td>\n",
              "      <td>Neutral</td>\n",
              "    </tr>\n",
              "    <tr>\n",
              "      <th>3</th>\n",
              "      <td>1049</td>\n",
              "      <td>50</td>\n",
              "      <td>I love, love, love this jumpsuit. it's fun, fl...</td>\n",
              "      <td>5</td>\n",
              "      <td>1</td>\n",
              "      <td>General Petite</td>\n",
              "      <td>Bottoms</td>\n",
              "      <td>Pants</td>\n",
              "      <td>Positive</td>\n",
              "    </tr>\n",
              "    <tr>\n",
              "      <th>4</th>\n",
              "      <td>847</td>\n",
              "      <td>47</td>\n",
              "      <td>This shirt is very flattering to all due to th...</td>\n",
              "      <td>5</td>\n",
              "      <td>1</td>\n",
              "      <td>General</td>\n",
              "      <td>Tops</td>\n",
              "      <td>Blouses</td>\n",
              "      <td>Positive</td>\n",
              "    </tr>\n",
              "  </tbody>\n",
              "</table>\n",
              "</div>"
            ],
            "text/plain": [
              "   Clothing ID  Age  ... Class Name  Polarity_Rating\n",
              "0          767   33  ...  Intimates         Positive\n",
              "1         1080   34  ...    Dresses         Positive\n",
              "2         1077   60  ...    Dresses          Neutral\n",
              "3         1049   50  ...      Pants         Positive\n",
              "4          847   47  ...    Blouses         Positive\n",
              "\n",
              "[5 rows x 9 columns]"
            ]
          },
          "metadata": {
            "tags": []
          },
          "execution_count": 7
        }
      ]
    },
    {
      "cell_type": "markdown",
      "metadata": {
        "id": "BpN9zpfIbGt7"
      },
      "source": [
        "**Plot the Rating visualization graph**"
      ]
    },
    {
      "cell_type": "code",
      "metadata": {
        "colab": {
          "base_uri": "https://localhost:8080/",
          "height": 296
        },
        "id": "BB9RrYmUbHnv",
        "outputId": "509d86bf-83dc-444c-8779-a334cfad4054"
      },
      "source": [
        "sns.set_style('whitegrid')\n",
        "sns.countplot(x='Rating',data=df, palette='YlGnBu_r')"
      ],
      "execution_count": 8,
      "outputs": [
        {
          "output_type": "execute_result",
          "data": {
            "text/plain": [
              "<matplotlib.axes._subplots.AxesSubplot at 0x7f13872bc850>"
            ]
          },
          "metadata": {
            "tags": []
          },
          "execution_count": 8
        },
        {
          "output_type": "display_data",
          "data": {
            "image/png": "[encoded data removed]",
            "text/plain": [
              "<Figure size 432x288 with 1 Axes>"
            ]
          },
          "metadata": {
            "tags": []
          }
        }
      ]
    },
    {
      "cell_type": "markdown",
      "metadata": {
        "id": "l-i1K7z8bOGP"
      },
      "source": [
        "**Plot the Polarity Rating count**"
      ]
    },
    {
      "cell_type": "code",
      "metadata": {
        "colab": {
          "base_uri": "https://localhost:8080/",
          "height": 297
        },
        "id": "6YHPhzogbOc9",
        "outputId": "93e7c47c-7bfd-4281-9e23-09e422a5a7ce"
      },
      "source": [
        "sns.set_style('whitegrid')\n",
        "sns.countplot(x='Polarity_Rating',data=df, palette='summer')"
      ],
      "execution_count": 9,
      "outputs": [
        {
          "output_type": "execute_result",
          "data": {
            "text/plain": [
              "<matplotlib.axes._subplots.AxesSubplot at 0x7f1386f31750>"
            ]
          },
          "metadata": {
            "tags": []
          },
          "execution_count": 9
        },
        {
          "output_type": "display_data",
          "data": {
            "image/png": "[encoded data removed]",
            "text/plain": [
              "<Figure size 432x288 with 1 Axes>"
            ]
          },
          "metadata": {
            "tags": []
          }
        }
      ]
    },
    {
      "cell_type": "markdown",
      "metadata": {
        "id": "-hy0EDUTbYBJ"
      },
      "source": [
        "**Data Preprocessing**"
      ]
    },
    {
      "cell_type": "code",
      "metadata": {
        "id": "33Hj8UBIbYUS"
      },
      "source": [
        "df_Positive = df[df['Polarity_Rating'] == 'Positive'][0:8000]\n",
        "df_Neutral = df[df['Polarity_Rating'] == 'Neutral']\n",
        "df_Negative = df[df['Polarity_Rating'] == 'Negative']"
      ],
      "execution_count": 10,
      "outputs": []
    },
    {
      "cell_type": "code",
      "metadata": {
        "colab": {
          "base_uri": "https://localhost:8080/"
        },
        "id": "CWWkAFbgbu1U",
        "outputId": "6618a730-0e4b-4b5d-a4fb-d9ac0ba3bb1d"
      },
      "source": [
        "df_Positive.shape\n"
      ],
      "execution_count": 11,
      "outputs": [
        {
          "output_type": "execute_result",
          "data": {
            "text/plain": [
              "(8000, 9)"
            ]
          },
          "metadata": {
            "tags": []
          },
          "execution_count": 11
        }
      ]
    },
    {
      "cell_type": "code",
      "metadata": {
        "colab": {
          "base_uri": "https://localhost:8080/"
        },
        "id": "88-wBUtGbsOx",
        "outputId": "4534dd3b-3de0-401d-c990-4cf083c259d5"
      },
      "source": [
        "df_Neutral.shape"
      ],
      "execution_count": 12,
      "outputs": [
        {
          "output_type": "execute_result",
          "data": {
            "text/plain": [
              "(2823, 9)"
            ]
          },
          "metadata": {
            "tags": []
          },
          "execution_count": 12
        }
      ]
    },
    {
      "cell_type": "code",
      "metadata": {
        "id": "Tc_txi3mcNGQ"
      },
      "source": [
        ""
      ],
      "execution_count": 12,
      "outputs": []
    },
    {
      "cell_type": "code",
      "metadata": {
        "colab": {
          "base_uri": "https://localhost:8080/"
        },
        "id": "wJC7CATDb6NF",
        "outputId": "5efcc8c7-e75d-439a-d54c-b1a55aea8dac"
      },
      "source": [
        "df_Negative.shape"
      ],
      "execution_count": 13,
      "outputs": [
        {
          "output_type": "execute_result",
          "data": {
            "text/plain": [
              "(2370, 9)"
            ]
          },
          "metadata": {
            "tags": []
          },
          "execution_count": 13
        }
      ]
    },
    {
      "cell_type": "markdown",
      "metadata": {
        "id": "qN4Qu3qwcJ-4"
      },
      "source": [
        "**Sample negative and neutral polarity dataset and create final dataframe**\n",
        "\n",
        "pandas.sample() function returns the sample from the data and when the replace = True it allows sampling of the same row more than once  "
      ]
    },
    {
      "cell_type": "code",
      "metadata": {
        "id": "u-9EUpp8cKmO"
      },
      "source": [
        "df_Neutral_over = df_Neutral.sample(8000, replace=True)\n",
        "df_Negative_over = df_Negative.sample(8000, replace=True)\n"
      ],
      "execution_count": 31,
      "outputs": []
    },
    {
      "cell_type": "code",
      "metadata": {
        "colab": {
          "base_uri": "https://localhost:8080/"
        },
        "id": "Vk-bTE6ScQtF",
        "outputId": "e966e9d3-1361-45df-a9ba-6a7bd887fc3a"
      },
      "source": [
        "df_Neutral_over.shape"
      ],
      "execution_count": 32,
      "outputs": [
        {
          "output_type": "execute_result",
          "data": {
            "text/plain": [
              "(8000, 9)"
            ]
          },
          "metadata": {
            "tags": []
          },
          "execution_count": 32
        }
      ]
    },
    {
      "cell_type": "code",
      "metadata": {
        "colab": {
          "base_uri": "https://localhost:8080/"
        },
        "id": "aDw8yjEFdQi3",
        "outputId": "bc9625f0-9911-4fd4-f74d-9e4e5b13c89d"
      },
      "source": [
        "df_Negative_over.shape"
      ],
      "execution_count": 33,
      "outputs": [
        {
          "output_type": "execute_result",
          "data": {
            "text/plain": [
              "(8000, 9)"
            ]
          },
          "metadata": {
            "tags": []
          },
          "execution_count": 33
        }
      ]
    },
    {
      "cell_type": "code",
      "metadata": {
        "id": "IGIK3NFEc2J2"
      },
      "source": [
        "df = pd.concat([df_Positive, df_Neutral_over, df_Negative_over], axis=0)"
      ],
      "execution_count": 34,
      "outputs": []
    },
    {
      "cell_type": "code",
      "metadata": {
        "colab": {
          "base_uri": "https://localhost:8080/"
        },
        "id": "Uj8KbeBbdXK1",
        "outputId": "6ac79a25-0906-49d7-b7de-05087184f6fa"
      },
      "source": [
        "df.shape"
      ],
      "execution_count": 35,
      "outputs": [
        {
          "output_type": "execute_result",
          "data": {
            "text/plain": [
              "(24000, 9)"
            ]
          },
          "metadata": {
            "tags": []
          },
          "execution_count": 35
        }
      ]
    },
    {
      "cell_type": "markdown",
      "metadata": {
        "id": "TzO6v2V8dauW"
      },
      "source": [
        "**Text Preprocessing**"
      ]
    },
    {
      "cell_type": "code",
      "metadata": {
        "id": "Wdu7QY1pdgS8"
      },
      "source": [
        "def get_text_processing(text):\n",
        "    stpword = stopwords.words('english')\n",
        "    no_punctuation = [char for char in text if char not in string.punctuation]\n",
        "    no_punctuation = ''.join(no_punctuation)\n",
        "    return ' '.join([word for word in no_punctuation.split() if word.lower() not in stpword])"
      ],
      "execution_count": 36,
      "outputs": []
    },
    {
      "cell_type": "markdown",
      "metadata": {
        "id": "31DgCmizdpqj"
      },
      "source": [
        "**Apply the method \"get_text_processing\" into column review text**"
      ]
    },
    {
      "cell_type": "code",
      "metadata": {
        "colab": {
          "base_uri": "https://localhost:8080/",
          "height": 306
        },
        "id": "fqgoFTajdyer",
        "outputId": "cafd1df2-49ba-47b0-d5c2-ac2e31c51b16"
      },
      "source": [
        "df['review'] = df['Review Text'].apply(get_text_processing)\n",
        "df.head()"
      ],
      "execution_count": 37,
      "outputs": [
        {
          "output_type": "execute_result",
          "data": {
            "text/html": [
              "<div>\n",
              "<style scoped>\n",
              "    .dataframe tbody tr th:only-of-type {\n",
              "        vertical-align: middle;\n",
              "    }\n",
              "\n",
              "    .dataframe tbody tr th {\n",
              "        vertical-align: top;\n",
              "    }\n",
              "\n",
              "    .dataframe thead th {\n",
              "        text-align: right;\n",
              "    }\n",
              "</style>\n",
              "<table border=\"1\" class=\"dataframe\">\n",
              "  <thead>\n",
              "    <tr style=\"text-align: right;\">\n",
              "      <th></th>\n",
              "      <th>Clothing ID</th>\n",
              "      <th>Age</th>\n",
              "      <th>Review Text</th>\n",
              "      <th>Rating</th>\n",
              "      <th>Recommended IND</th>\n",
              "      <th>Division Name</th>\n",
              "      <th>Department Name</th>\n",
              "      <th>Class Name</th>\n",
              "      <th>Polarity_Rating</th>\n",
              "      <th>review</th>\n",
              "    </tr>\n",
              "  </thead>\n",
              "  <tbody>\n",
              "    <tr>\n",
              "      <th>0</th>\n",
              "      <td>767</td>\n",
              "      <td>33</td>\n",
              "      <td>Absolutely wonderful - silky and sexy and comf...</td>\n",
              "      <td>4</td>\n",
              "      <td>1</td>\n",
              "      <td>Initmates</td>\n",
              "      <td>Intimate</td>\n",
              "      <td>Intimates</td>\n",
              "      <td>Positive</td>\n",
              "      <td>Absolutely wonderful silky sexy comfortable</td>\n",
              "    </tr>\n",
              "    <tr>\n",
              "      <th>1</th>\n",
              "      <td>1080</td>\n",
              "      <td>34</td>\n",
              "      <td>Love this dress!  it's sooo pretty.  i happene...</td>\n",
              "      <td>5</td>\n",
              "      <td>1</td>\n",
              "      <td>General</td>\n",
              "      <td>Dresses</td>\n",
              "      <td>Dresses</td>\n",
              "      <td>Positive</td>\n",
              "      <td>Love dress sooo pretty happened find store im ...</td>\n",
              "    </tr>\n",
              "    <tr>\n",
              "      <th>3</th>\n",
              "      <td>1049</td>\n",
              "      <td>50</td>\n",
              "      <td>I love, love, love this jumpsuit. it's fun, fl...</td>\n",
              "      <td>5</td>\n",
              "      <td>1</td>\n",
              "      <td>General Petite</td>\n",
              "      <td>Bottoms</td>\n",
              "      <td>Pants</td>\n",
              "      <td>Positive</td>\n",
              "      <td>love love love jumpsuit fun flirty fabulous ev...</td>\n",
              "    </tr>\n",
              "    <tr>\n",
              "      <th>4</th>\n",
              "      <td>847</td>\n",
              "      <td>47</td>\n",
              "      <td>This shirt is very flattering to all due to th...</td>\n",
              "      <td>5</td>\n",
              "      <td>1</td>\n",
              "      <td>General</td>\n",
              "      <td>Tops</td>\n",
              "      <td>Blouses</td>\n",
              "      <td>Positive</td>\n",
              "      <td>shirt flattering due adjustable front tie perf...</td>\n",
              "    </tr>\n",
              "    <tr>\n",
              "      <th>6</th>\n",
              "      <td>858</td>\n",
              "      <td>39</td>\n",
              "      <td>I aded this in my basket at hte last mintue to...</td>\n",
              "      <td>5</td>\n",
              "      <td>1</td>\n",
              "      <td>General Petite</td>\n",
              "      <td>Tops</td>\n",
              "      <td>Knits</td>\n",
              "      <td>Positive</td>\n",
              "      <td>aded basket hte last mintue see would look lik...</td>\n",
              "    </tr>\n",
              "  </tbody>\n",
              "</table>\n",
              "</div>"
            ],
            "text/plain": [
              "   Clothing ID  ...                                             review\n",
              "0          767  ...        Absolutely wonderful silky sexy comfortable\n",
              "1         1080  ...  Love dress sooo pretty happened find store im ...\n",
              "3         1049  ...  love love love jumpsuit fun flirty fabulous ev...\n",
              "4          847  ...  shirt flattering due adjustable front tie perf...\n",
              "6          858  ...  aded basket hte last mintue see would look lik...\n",
              "\n",
              "[5 rows x 10 columns]"
            ]
          },
          "metadata": {
            "tags": []
          },
          "execution_count": 37
        }
      ]
    },
    {
      "cell_type": "markdown",
      "metadata": {
        "id": "_E9bELTfeB7Z"
      },
      "source": [
        "**Visualize Text Review with Polarity Rating**"
      ]
    },
    {
      "cell_type": "code",
      "metadata": {
        "colab": {
          "base_uri": "https://localhost:8080/",
          "height": 204
        },
        "id": "3xT8jgxUeDFN",
        "outputId": "332cb837-c391-4a2f-b66d-2b039efcc126"
      },
      "source": [
        "df = df[['review', 'Polarity_Rating']]\n",
        "df.head()"
      ],
      "execution_count": 38,
      "outputs": [
        {
          "output_type": "execute_result",
          "data": {
            "text/html": [
              "<div>\n",
              "<style scoped>\n",
              "    .dataframe tbody tr th:only-of-type {\n",
              "        vertical-align: middle;\n",
              "    }\n",
              "\n",
              "    .dataframe tbody tr th {\n",
              "        vertical-align: top;\n",
              "    }\n",
              "\n",
              "    .dataframe thead th {\n",
              "        text-align: right;\n",
              "    }\n",
              "</style>\n",
              "<table border=\"1\" class=\"dataframe\">\n",
              "  <thead>\n",
              "    <tr style=\"text-align: right;\">\n",
              "      <th></th>\n",
              "      <th>review</th>\n",
              "      <th>Polarity_Rating</th>\n",
              "    </tr>\n",
              "  </thead>\n",
              "  <tbody>\n",
              "    <tr>\n",
              "      <th>0</th>\n",
              "      <td>Absolutely wonderful silky sexy comfortable</td>\n",
              "      <td>Positive</td>\n",
              "    </tr>\n",
              "    <tr>\n",
              "      <th>1</th>\n",
              "      <td>Love dress sooo pretty happened find store im ...</td>\n",
              "      <td>Positive</td>\n",
              "    </tr>\n",
              "    <tr>\n",
              "      <th>3</th>\n",
              "      <td>love love love jumpsuit fun flirty fabulous ev...</td>\n",
              "      <td>Positive</td>\n",
              "    </tr>\n",
              "    <tr>\n",
              "      <th>4</th>\n",
              "      <td>shirt flattering due adjustable front tie perf...</td>\n",
              "      <td>Positive</td>\n",
              "    </tr>\n",
              "    <tr>\n",
              "      <th>6</th>\n",
              "      <td>aded basket hte last mintue see would look lik...</td>\n",
              "      <td>Positive</td>\n",
              "    </tr>\n",
              "  </tbody>\n",
              "</table>\n",
              "</div>"
            ],
            "text/plain": [
              "                                              review Polarity_Rating\n",
              "0        Absolutely wonderful silky sexy comfortable        Positive\n",
              "1  Love dress sooo pretty happened find store im ...        Positive\n",
              "3  love love love jumpsuit fun flirty fabulous ev...        Positive\n",
              "4  shirt flattering due adjustable front tie perf...        Positive\n",
              "6  aded basket hte last mintue see would look lik...        Positive"
            ]
          },
          "metadata": {
            "tags": []
          },
          "execution_count": 38
        }
      ]
    },
    {
      "cell_type": "markdown",
      "metadata": {
        "id": "T2y782SWeJGt"
      },
      "source": [
        "**Apply One hot encoding on negative, neutral, and positive**"
      ]
    },
    {
      "cell_type": "code",
      "metadata": {
        "colab": {
          "base_uri": "https://localhost:8080/",
          "height": 204
        },
        "id": "RtT1A8bveN3q",
        "outputId": "9773bb8d-9b05-49ba-9f1f-93dc645fd2d3"
      },
      "source": [
        "one_hot = pd.get_dummies(df[\"Polarity_Rating\"])\n",
        "df.drop(['Polarity_Rating'],axis=1,inplace=True)\n",
        "df = pd.concat([df,one_hot],axis=1)\n",
        "df.head()"
      ],
      "execution_count": 39,
      "outputs": [
        {
          "output_type": "execute_result",
          "data": {
            "text/html": [
              "<div>\n",
              "<style scoped>\n",
              "    .dataframe tbody tr th:only-of-type {\n",
              "        vertical-align: middle;\n",
              "    }\n",
              "\n",
              "    .dataframe tbody tr th {\n",
              "        vertical-align: top;\n",
              "    }\n",
              "\n",
              "    .dataframe thead th {\n",
              "        text-align: right;\n",
              "    }\n",
              "</style>\n",
              "<table border=\"1\" class=\"dataframe\">\n",
              "  <thead>\n",
              "    <tr style=\"text-align: right;\">\n",
              "      <th></th>\n",
              "      <th>review</th>\n",
              "      <th>Negative</th>\n",
              "      <th>Neutral</th>\n",
              "      <th>Positive</th>\n",
              "    </tr>\n",
              "  </thead>\n",
              "  <tbody>\n",
              "    <tr>\n",
              "      <th>0</th>\n",
              "      <td>Absolutely wonderful silky sexy comfortable</td>\n",
              "      <td>0</td>\n",
              "      <td>0</td>\n",
              "      <td>1</td>\n",
              "    </tr>\n",
              "    <tr>\n",
              "      <th>1</th>\n",
              "      <td>Love dress sooo pretty happened find store im ...</td>\n",
              "      <td>0</td>\n",
              "      <td>0</td>\n",
              "      <td>1</td>\n",
              "    </tr>\n",
              "    <tr>\n",
              "      <th>3</th>\n",
              "      <td>love love love jumpsuit fun flirty fabulous ev...</td>\n",
              "      <td>0</td>\n",
              "      <td>0</td>\n",
              "      <td>1</td>\n",
              "    </tr>\n",
              "    <tr>\n",
              "      <th>4</th>\n",
              "      <td>shirt flattering due adjustable front tie perf...</td>\n",
              "      <td>0</td>\n",
              "      <td>0</td>\n",
              "      <td>1</td>\n",
              "    </tr>\n",
              "    <tr>\n",
              "      <th>6</th>\n",
              "      <td>aded basket hte last mintue see would look lik...</td>\n",
              "      <td>0</td>\n",
              "      <td>0</td>\n",
              "      <td>1</td>\n",
              "    </tr>\n",
              "  </tbody>\n",
              "</table>\n",
              "</div>"
            ],
            "text/plain": [
              "                                              review  ...  Positive\n",
              "0        Absolutely wonderful silky sexy comfortable  ...         1\n",
              "1  Love dress sooo pretty happened find store im ...  ...         1\n",
              "3  love love love jumpsuit fun flirty fabulous ev...  ...         1\n",
              "4  shirt flattering due adjustable front tie perf...  ...         1\n",
              "6  aded basket hte last mintue see would look lik...  ...         1\n",
              "\n",
              "[5 rows x 4 columns]"
            ]
          },
          "metadata": {
            "tags": []
          },
          "execution_count": 39
        }
      ]
    },
    {
      "cell_type": "markdown",
      "metadata": {
        "id": "bT7SJ-0xeT4Q"
      },
      "source": [
        "**Apply Train Test Split**"
      ]
    },
    {
      "cell_type": "code",
      "metadata": {
        "id": "naWH_fABeX4k"
      },
      "source": [
        "X = df['review'].values\n",
        "y = df.drop('review', axis=1).values\n",
        "X_train, X_test, y_train, y_test = train_test_split(X, y, test_size=0.30, random_state=42)"
      ],
      "execution_count": 40,
      "outputs": []
    },
    {
      "cell_type": "code",
      "metadata": {
        "id": "agwrTuymO0-5"
      },
      "source": [
        ""
      ],
      "execution_count": 40,
      "outputs": []
    },
    {
      "cell_type": "code",
      "metadata": {
        "id": "uP_mwuiDfDWx",
        "colab": {
          "base_uri": "https://localhost:8080/"
        },
        "outputId": "c676268c-f1d3-4609-cbf7-37afdb3f9228"
      },
      "source": [
        "X_train"
      ],
      "execution_count": 41,
      "outputs": [
        {
          "output_type": "execute_result",
          "data": {
            "text/plain": [
              "array(['Nice weight sweater allows one wear leggings ultra skinny jeans without looking like im pregnant theres anything wrong feminine light weight enough wear cami underneath pretty scarf',\n",
              "       'generally dont spend much jeans wanted nice black pair rolled dice sale wear im average size 12 struggled get size 32s hips buttoned zipped looked like stuffed black sausage best thin frames even size',\n",
              "       'pretty provides coverage bit support wearing around house im 34b ordered small still room tightened straps used tightest hooks back makes fit ok bought wear home since expecting great deal support shaping feels ok supercomfy bit scratchy around edges going buy another color loved keep one',\n",
              "       ...,\n",
              "       'Although may look like takes shape wonderfully flattering jumper intrigued seeing catalog try store unsure middle would appear fit wonderfully feminine looking forward summer',\n",
              "       'beautiful pants especially walk simply beautiful flow nicely however soooo long 5 5 12 even big wedges would get altered waist seemed small sz 12 10 stores got large way tight waist stretch give probably sz 10 unfortunetly go back',\n",
              "       'washed dried dryer one wear shrunk size toddler shirt dried medium really wear unless want show belly loved color lilac fit style received immediately put sad shrinkage 58 shirt expected bit retailer suggest air drying shirt bummed disappointed would recommend shirt unless remember air dry every time'],\n",
              "      dtype=object)"
            ]
          },
          "metadata": {
            "tags": []
          },
          "execution_count": 41
        }
      ]
    },
    {
      "cell_type": "code",
      "metadata": {
        "colab": {
          "base_uri": "https://localhost:8080/"
        },
        "id": "lfKywEShfEq_",
        "outputId": "05bab4c4-566d-40c2-f82e-2089b6607e03"
      },
      "source": [
        "y_train"
      ],
      "execution_count": 42,
      "outputs": [
        {
          "output_type": "execute_result",
          "data": {
            "text/plain": [
              "array([[0, 0, 1],\n",
              "       [1, 0, 0],\n",
              "       [0, 1, 0],\n",
              "       ...,\n",
              "       [0, 0, 1],\n",
              "       [0, 1, 0],\n",
              "       [1, 0, 0]], dtype=uint8)"
            ]
          },
          "metadata": {
            "tags": []
          },
          "execution_count": 42
        }
      ]
    },
    {
      "cell_type": "markdown",
      "metadata": {
        "id": "jRBndMKIeeFQ"
      },
      "source": [
        "**Apply vectorization**"
      ]
    },
    {
      "cell_type": "code",
      "metadata": {
        "id": "BECx4CGpeeYU"
      },
      "source": [
        "vect = CountVectorizer()\n",
        "X_train = vect.fit_transform(X_train)\n",
        "X_test = vect.transform(X_test)"
      ],
      "execution_count": 43,
      "outputs": []
    },
    {
      "cell_type": "code",
      "metadata": {
        "id": "bGs8KxggfJkO",
        "colab": {
          "base_uri": "https://localhost:8080/"
        },
        "outputId": "1b3d40bf-eec4-46fb-9d5c-5025e4fdcfee"
      },
      "source": [
        "X_train"
      ],
      "execution_count": 44,
      "outputs": [
        {
          "output_type": "execute_result",
          "data": {
            "text/plain": [
              "<16800x12657 sparse matrix of type '<class 'numpy.int64'>'\n",
              "\twith 454587 stored elements in Compressed Sparse Row format>"
            ]
          },
          "metadata": {
            "tags": []
          },
          "execution_count": 44
        }
      ]
    },
    {
      "cell_type": "markdown",
      "metadata": {
        "id": "U-dTA3kYetws"
      },
      "source": [
        "**Apply frequency, inverse document frequency:**"
      ]
    },
    {
      "cell_type": "code",
      "metadata": {
        "id": "QBkneu6Zet_C"
      },
      "source": [
        "tfidf = TfidfTransformer()\n",
        "X_train = tfidf.fit_transform(X_train)\n",
        "X_test = tfidf.transform(X_test)\n",
        "X_train = X_train.toarray()\n",
        "X_test = X_test.toarray()"
      ],
      "execution_count": 45,
      "outputs": []
    },
    {
      "cell_type": "code",
      "metadata": {
        "id": "HVYlBZ70fN_j",
        "colab": {
          "base_uri": "https://localhost:8080/"
        },
        "outputId": "11c55031-f67a-4adc-adec-3434d1456578"
      },
      "source": [
        "X_train"
      ],
      "execution_count": 46,
      "outputs": [
        {
          "output_type": "execute_result",
          "data": {
            "text/plain": [
              "array([[0., 0., 0., ..., 0., 0., 0.],\n",
              "       [0., 0., 0., ..., 0., 0., 0.],\n",
              "       [0., 0., 0., ..., 0., 0., 0.],\n",
              "       ...,\n",
              "       [0., 0., 0., ..., 0., 0., 0.],\n",
              "       [0., 0., 0., ..., 0., 0., 0.],\n",
              "       [0., 0., 0., ..., 0., 0., 0.]])"
            ]
          },
          "metadata": {
            "tags": []
          },
          "execution_count": 46
        }
      ]
    },
    {
      "cell_type": "markdown",
      "metadata": {
        "id": "VMB1i4qafRrt"
      },
      "source": [
        "**Build a deep learning model and add different layers**"
      ]
    },
    {
      "cell_type": "code",
      "metadata": {
        "id": "YtCLZl4bfOnK"
      },
      "source": [
        "model = Sequential()\n",
        "\n",
        "model.add(Dense(units=12673,activation='relu'))\n",
        "model.add(Dropout(0.5))\n",
        "\n",
        "model.add(Dense(units=4000,activation='relu'))\n",
        "model.add(Dropout(0.5))\n",
        "\n",
        "model.add(Dense(units=500,activation='relu'))\n",
        "model.add(Dropout(0.5))\n",
        "\n",
        "model.add(Dense(units=3, activation='softmax'))\n",
        "\n",
        "opt=tf.keras.optimizers.Adam(learning_rate=0.001)\n",
        "model.compile(loss='categorical_crossentropy', optimizer=opt, metrics=['accuracy'])\n",
        "\n",
        "early_stop = EarlyStopping(monitor='val_loss', mode='min', verbose=1, patience=2)"
      ],
      "execution_count": 47,
      "outputs": []
    },
    {
      "cell_type": "markdown",
      "metadata": {
        "id": "LC0beq1FfbXF"
      },
      "source": [
        "**Fit the Model**"
      ]
    },
    {
      "cell_type": "code",
      "metadata": {
        "colab": {
          "base_uri": "https://localhost:8080/"
        },
        "id": "yTadjBvLfeL5",
        "outputId": "e9b54585-f990-478e-bbae-88c36575df56"
      },
      "source": [
        "model.fit(x=X_train, y=y_train, batch_size=256, epochs=100, validation_data=(X_test, y_test), verbose=1, callbacks=early_stop)"
      ],
      "execution_count": 30,
      "outputs": [
        {
          "output_type": "stream",
          "text": [
            "Epoch 1/100\n",
            "66/66 [==============================] - 11s 110ms/step - loss: 0.8039 - accuracy: 0.5947 - val_loss: 0.3420 - val_accuracy: 0.8775\n",
            "Epoch 2/100\n",
            "66/66 [==============================] - 7s 102ms/step - loss: 0.1222 - accuracy: 0.9610 - val_loss: 0.2649 - val_accuracy: 0.9160\n",
            "Epoch 3/100\n",
            "66/66 [==============================] - 7s 103ms/step - loss: 0.0208 - accuracy: 0.9939 - val_loss: 0.3611 - val_accuracy: 0.9132\n",
            "Epoch 4/100\n",
            "66/66 [==============================] - 7s 103ms/step - loss: 0.0050 - accuracy: 0.9989 - val_loss: 0.4080 - val_accuracy: 0.9124\n",
            "Epoch 00004: early stopping\n"
          ],
          "name": "stdout"
        },
        {
          "output_type": "execute_result",
          "data": {
            "text/plain": [
              "<tensorflow.python.keras.callbacks.History at 0x7f28bbbe3650>"
            ]
          },
          "metadata": {
            "tags": []
          },
          "execution_count": 30
        }
      ]
    },
    {
      "cell_type": "markdown",
      "metadata": {
        "id": "9kQlPucPfkO2"
      },
      "source": [
        "**Evaluation of Model**"
      ]
    },
    {
      "cell_type": "code",
      "metadata": {
        "colab": {
          "base_uri": "https://localhost:8080/"
        },
        "id": "5stBhWOUfqzF",
        "outputId": "7efc65f7-5efd-4a20-a4b9-13aee2c482f4"
      },
      "source": [
        "model_score = model.evaluate(X_test, y_test, batch_size=64, verbose=1)\n",
        "print('Test accuracy:', model_score[1])"
      ],
      "execution_count": 31,
      "outputs": [
        {
          "output_type": "stream",
          "text": [
            "113/113 [==============================] - 1s 9ms/step - loss: 0.4080 - accuracy: 0.9124\n",
            "Test accuracy: 0.9123610854148865\n"
          ],
          "name": "stdout"
        }
      ]
    },
    {
      "cell_type": "markdown",
      "metadata": {
        "id": "y5wwqQInfyI3"
      },
      "source": [
        "**Prediction**"
      ]
    },
    {
      "cell_type": "code",
      "metadata": {
        "colab": {
          "base_uri": "https://localhost:8080/"
        },
        "id": "0--6BRmofw5B",
        "outputId": "3014e079-fc70-4092-f8e8-9c261d8aef67"
      },
      "source": [
        "preds = model.predict(X_test)\n",
        "preds"
      ],
      "execution_count": 32,
      "outputs": [
        {
          "output_type": "execute_result",
          "data": {
            "text/plain": [
              "array([[2.9824039e-11, 9.2037880e-09, 1.0000000e+00],\n",
              "       [9.9533987e-01, 3.1801218e-03, 1.4800178e-03],\n",
              "       [9.9994743e-01, 9.9230328e-06, 4.2625492e-05],\n",
              "       ...,\n",
              "       [9.9921238e-01, 7.7423661e-05, 7.1017834e-04],\n",
              "       [4.4690096e-09, 1.2987793e-08, 1.0000000e+00],\n",
              "       [1.3292291e-07, 2.1982653e-06, 9.9999762e-01]], dtype=float32)"
            ]
          },
          "metadata": {
            "tags": []
          },
          "execution_count": 32
        }
      ]
    },
    {
      "cell_type": "markdown",
      "metadata": {
        "id": "2yXyaDLGNVG5"
      },
      "source": [
        "# ICP"
      ]
    },
    {
      "cell_type": "markdown",
      "metadata": {
        "id": "q1snW4IDOkHZ"
      },
      "source": [
        "### Task 1: Changing the test/train ratio"
      ]
    },
    {
      "cell_type": "code",
      "metadata": {
        "colab": {
          "base_uri": "https://localhost:8080/"
        },
        "id": "ozMRaWm5NXHo",
        "outputId": "e90c544a-c4b3-4307-89d1-18cab8d97572"
      },
      "source": [
        "# Changed the test size to 20%\n",
        "\n",
        "X = df['review'].values\n",
        "y = df.drop('review', axis=1).values\n",
        "X_train, X_test, y_train, y_test = train_test_split(X, y, test_size=0.20, random_state=42)\n",
        "\n",
        "vect = CountVectorizer()\n",
        "X_train = vect.fit_transform(X_train)\n",
        "X_test = vect.transform(X_test)\n",
        "\n",
        "tfidf = TfidfTransformer()\n",
        "X_train = tfidf.fit_transform(X_train)\n",
        "X_test = tfidf.transform(X_test)\n",
        "X_train = X_train.toarray()\n",
        "X_test = X_test.toarray()\n",
        "\n",
        "model = Sequential()\n",
        "\n",
        "model.add(Dense(units=12673,activation='relu'))\n",
        "model.add(Dropout(0.5))\n",
        "\n",
        "model.add(Dense(units=4000,activation='relu'))\n",
        "model.add(Dropout(0.5))\n",
        "\n",
        "model.add(Dense(units=500,activation='relu'))\n",
        "model.add(Dropout(0.5))\n",
        "\n",
        "model.add(Dense(units=3, activation='softmax'))\n",
        "\n",
        "opt=tf.keras.optimizers.Adam(learning_rate=0.001)\n",
        "model.compile(loss='categorical_crossentropy', optimizer=opt, metrics=['accuracy'])\n",
        "\n",
        "early_stop = EarlyStopping(monitor='val_loss', mode='min', verbose=1, patience=2)\n",
        "\n",
        "\n",
        "model.fit(x=X_train, y=y_train, batch_size=256, epochs=100, validation_data=(X_test, y_test), verbose=1, callbacks=early_stop)\n",
        "\n",
        "\n",
        "model_score = model.evaluate(X_test, y_test, batch_size=64, verbose=1)\n",
        "print('Test accuracy:', model_score[1])\n",
        "\n",
        "preds = model.predict(X_test)\n",
        "preds"
      ],
      "execution_count": 33,
      "outputs": [
        {
          "output_type": "stream",
          "text": [
            "Epoch 1/100\n",
            "75/75 [==============================] - 8s 106ms/step - loss: 0.7829 - accuracy: 0.6174 - val_loss: 0.2899 - val_accuracy: 0.8910\n",
            "Epoch 2/100\n",
            "75/75 [==============================] - 8s 103ms/step - loss: 0.1075 - accuracy: 0.9642 - val_loss: 0.2287 - val_accuracy: 0.9281\n",
            "Epoch 3/100\n",
            "75/75 [==============================] - 8s 103ms/step - loss: 0.0194 - accuracy: 0.9946 - val_loss: 0.2988 - val_accuracy: 0.9281\n",
            "Epoch 4/100\n",
            "75/75 [==============================] - 8s 102ms/step - loss: 0.0061 - accuracy: 0.9990 - val_loss: 0.3871 - val_accuracy: 0.9233\n",
            "Epoch 00004: early stopping\n",
            "75/75 [==============================] - 1s 9ms/step - loss: 0.3871 - accuracy: 0.9233\n",
            "Test accuracy: 0.9233333468437195\n"
          ],
          "name": "stdout"
        },
        {
          "output_type": "execute_result",
          "data": {
            "text/plain": [
              "array([[3.6589282e-12, 8.4669477e-10, 1.0000000e+00],\n",
              "       [9.9111825e-01, 7.8103077e-03, 1.0713390e-03],\n",
              "       [9.9997628e-01, 4.3936975e-06, 1.9261142e-05],\n",
              "       ...,\n",
              "       [8.2645712e-09, 5.5550654e-06, 9.9999440e-01],\n",
              "       [1.0302810e-10, 2.5999525e-09, 1.0000000e+00],\n",
              "       [1.5228170e-07, 9.9998367e-01, 1.6210102e-05]], dtype=float32)"
            ]
          },
          "metadata": {
            "tags": []
          },
          "execution_count": 33
        }
      ]
    },
    {
      "cell_type": "markdown",
      "metadata": {
        "id": "5tXOffy6Ps9V"
      },
      "source": [
        "### Task 2: Adding and Dropping the layers"
      ]
    },
    {
      "cell_type": "code",
      "metadata": {
        "colab": {
          "base_uri": "https://localhost:8080/"
        },
        "id": "ePErpRcLOtqj",
        "outputId": "6a870074-9061-468a-a641-f2c904631a15"
      },
      "source": [
        "X = df['review'].values\n",
        "y = df.drop('review', axis=1).values\n",
        "X_train, X_test, y_train, y_test = train_test_split(X, y, test_size=0.30, random_state=42)\n",
        "\n",
        "vect = CountVectorizer()\n",
        "X_train = vect.fit_transform(X_train)\n",
        "X_test = vect.transform(X_test)\n",
        "\n",
        "tfidf = TfidfTransformer()\n",
        "X_train = tfidf.fit_transform(X_train)\n",
        "X_test = tfidf.transform(X_test)\n",
        "X_train = X_train.toarray()\n",
        "X_test = X_test.toarray()\n",
        "\n",
        "model = Sequential()\n",
        "\n",
        "model.add(Dense(units=12673,activation='relu'))\n",
        "model.add(Dropout(0.5))\n",
        "\n",
        "model.add(Dense(units=4000,activation='relu'))\n",
        "model.add(Dropout(0.5))\n",
        "\n",
        "model.add(Dense(units=500,activation='relu'))\n",
        "model.add(Dropout(0.5))\n",
        "\n",
        "model.add(Dense(units=3, activation='softmax'))\n",
        "\n",
        "# Adding extra layer\n",
        "\n",
        "model.add(Dense(units=3, activation='softmax'))\n",
        "\n",
        "opt=tf.keras.optimizers.Adam(learning_rate=0.001)\n",
        "model.compile(loss='categorical_crossentropy', optimizer=opt, metrics=['accuracy'])\n",
        "\n",
        "early_stop = EarlyStopping(monitor='val_loss', mode='min', verbose=1, patience=2)\n",
        "\n",
        "\n",
        "model.fit(x=X_train, y=y_train, batch_size=256, epochs=100, validation_data=(X_test, y_test), verbose=1, callbacks=early_stop)\n",
        "\n",
        "\n",
        "model_score = model.evaluate(X_test, y_test, batch_size=64, verbose=1)\n",
        "print('Test accuracy:', model_score[1])\n",
        "\n",
        "preds = model.predict(X_test)\n",
        "preds"
      ],
      "execution_count": 34,
      "outputs": [
        {
          "output_type": "stream",
          "text": [
            "Epoch 1/100\n",
            "66/66 [==============================] - 8s 108ms/step - loss: 1.1227 - accuracy: 0.3336 - val_loss: 1.1047 - val_accuracy: 0.3340\n",
            "Epoch 2/100\n",
            "66/66 [==============================] - 7s 104ms/step - loss: 1.1061 - accuracy: 0.3266 - val_loss: 1.0997 - val_accuracy: 0.3340\n",
            "Epoch 3/100\n",
            "66/66 [==============================] - 7s 104ms/step - loss: 1.0993 - accuracy: 0.3380 - val_loss: 1.0987 - val_accuracy: 0.3340\n",
            "Epoch 4/100\n",
            "66/66 [==============================] - 7s 103ms/step - loss: 1.0990 - accuracy: 0.3296 - val_loss: 1.0986 - val_accuracy: 0.3340\n",
            "Epoch 5/100\n",
            "66/66 [==============================] - 7s 103ms/step - loss: 1.0986 - accuracy: 0.3342 - val_loss: 1.0987 - val_accuracy: 0.3340\n",
            "Epoch 6/100\n",
            "66/66 [==============================] - 7s 104ms/step - loss: 1.0986 - accuracy: 0.3373 - val_loss: 1.0987 - val_accuracy: 0.3276\n",
            "Epoch 00006: early stopping\n",
            "113/113 [==============================] - 1s 9ms/step - loss: 1.0987 - accuracy: 0.3276\n",
            "Test accuracy: 0.3276388943195343\n"
          ],
          "name": "stdout"
        },
        {
          "output_type": "execute_result",
          "data": {
            "text/plain": [
              "array([[0.3308528 , 0.3334342 , 0.33571303],\n",
              "       [0.3308528 , 0.3334342 , 0.33571303],\n",
              "       [0.3308528 , 0.3334342 , 0.33571303],\n",
              "       ...,\n",
              "       [0.3308528 , 0.3334342 , 0.33571303],\n",
              "       [0.3308528 , 0.3334342 , 0.33571303],\n",
              "       [0.3308528 , 0.3334342 , 0.33571303]], dtype=float32)"
            ]
          },
          "metadata": {
            "tags": []
          },
          "execution_count": 34
        }
      ]
    },
    {
      "cell_type": "code",
      "metadata": {
        "colab": {
          "base_uri": "https://localhost:8080/"
        },
        "id": "mFt1jWQkQHub",
        "outputId": "8700973c-b03a-47aa-cb6e-a7563f23ae80"
      },
      "source": [
        "# Decreasing the number of layers\n",
        "\n",
        "model = Sequential()\n",
        "\n",
        "model.add(Dense(units=12673,activation='relu'))\n",
        "model.add(Dropout(0.5))\n",
        "\n",
        "model.add(Dense(units=4000,activation='relu'))\n",
        "model.add(Dropout(0.5))\n",
        "\n",
        "model.add(Dense(units=3, activation='softmax'))\n",
        "\n",
        "opt=tf.keras.optimizers.Adam(learning_rate=0.001)\n",
        "model.compile(loss='categorical_crossentropy', optimizer=opt, metrics=['accuracy'])\n",
        "\n",
        "early_stop = EarlyStopping(monitor='val_loss', mode='min', verbose=1, patience=2)\n",
        "\n",
        "\n",
        "model.fit(x=X_train, y=y_train, batch_size=256, epochs=100, validation_data=(X_test, y_test), verbose=1, callbacks=early_stop)\n",
        "\n",
        "\n",
        "model_score = model.evaluate(X_test, y_test, batch_size=64, verbose=1)\n",
        "print('Test accuracy:', model_score[1])\n",
        "\n",
        "preds = model.predict(X_test)\n",
        "preds"
      ],
      "execution_count": 35,
      "outputs": [
        {
          "output_type": "stream",
          "text": [
            "Epoch 1/100\n",
            "66/66 [==============================] - 7s 106ms/step - loss: 0.7569 - accuracy: 0.6358 - val_loss: 0.3251 - val_accuracy: 0.8858\n",
            "Epoch 2/100\n",
            "66/66 [==============================] - 7s 103ms/step - loss: 0.1099 - accuracy: 0.9667 - val_loss: 0.2795 - val_accuracy: 0.9124\n",
            "Epoch 3/100\n",
            "66/66 [==============================] - 7s 103ms/step - loss: 0.0165 - accuracy: 0.9965 - val_loss: 0.3445 - val_accuracy: 0.9119\n",
            "Epoch 4/100\n",
            "66/66 [==============================] - 7s 103ms/step - loss: 0.0028 - accuracy: 0.9996 - val_loss: 0.3702 - val_accuracy: 0.9132\n",
            "Epoch 00004: early stopping\n",
            "113/113 [==============================] - 1s 9ms/step - loss: 0.3702 - accuracy: 0.9132\n",
            "Test accuracy: 0.9131944179534912\n"
          ],
          "name": "stdout"
        },
        {
          "output_type": "execute_result",
          "data": {
            "text/plain": [
              "array([[6.6770950e-10, 1.2194408e-06, 9.9999881e-01],\n",
              "       [8.3435410e-01, 1.5975511e-01, 5.8907545e-03],\n",
              "       [9.9982482e-01, 2.5142530e-05, 1.5007672e-04],\n",
              "       ...,\n",
              "       [9.9962413e-01, 1.5498543e-05, 3.6029975e-04],\n",
              "       [9.3019895e-07, 1.2757941e-06, 9.9999774e-01],\n",
              "       [1.5828830e-07, 3.6786203e-06, 9.9999619e-01]], dtype=float32)"
            ]
          },
          "metadata": {
            "tags": []
          },
          "execution_count": 35
        }
      ]
    },
    {
      "cell_type": "markdown",
      "metadata": {
        "id": "fa42_WhiS3Hq"
      },
      "source": [
        "### Task 3: Changing the dropout ratio to 0.9"
      ]
    },
    {
      "cell_type": "code",
      "metadata": {
        "colab": {
          "base_uri": "https://localhost:8080/"
        },
        "id": "VYrJ4lNSSqxX",
        "outputId": "96ea9ef2-2e64-45d1-d29c-2b4bcaff6874"
      },
      "source": [
        "model = Sequential()\n",
        "\n",
        "# Changed the dropout ratio\n",
        "\n",
        "model.add(Dense(units=12673,activation='relu'))\n",
        "model.add(Dropout(0.9))\n",
        "\n",
        "model.add(Dense(units=4000,activation='relu'))\n",
        "model.add(Dropout(0.9))\n",
        "\n",
        "model.add(Dense(units=500,activation='relu'))\n",
        "model.add(Dropout(0.9))\n",
        "\n",
        "model.add(Dense(units=3, activation='softmax'))\n",
        "\n",
        "opt=tf.keras.optimizers.Adam(learning_rate=0.001)\n",
        "model.compile(loss='categorical_crossentropy', optimizer=opt, metrics=['accuracy'])\n",
        "\n",
        "early_stop = EarlyStopping(monitor='val_loss', mode='min', verbose=1, patience=2)\n",
        "\n",
        "\n",
        "model.fit(x=X_train, y=y_train, batch_size=256, epochs=100, validation_data=(X_test, y_test), verbose=1, callbacks=early_stop)\n",
        "\n",
        "\n",
        "model_score = model.evaluate(X_test, y_test, batch_size=64, verbose=1)\n",
        "print('Test accuracy:', model_score[1])\n",
        "\n",
        "preds = model.predict(X_test)\n",
        "preds"
      ],
      "execution_count": 31,
      "outputs": [
        {
          "output_type": "stream",
          "text": [
            "Epoch 1/100\n",
            "66/66 [==============================] - 7s 105ms/step - loss: 1.1323 - accuracy: 0.3462 - val_loss: 1.0720 - val_accuracy: 0.5589\n",
            "Epoch 2/100\n",
            "66/66 [==============================] - 7s 102ms/step - loss: 1.0102 - accuracy: 0.4551 - val_loss: 0.7124 - val_accuracy: 0.6544\n",
            "Epoch 3/100\n",
            "66/66 [==============================] - 7s 103ms/step - loss: 0.7182 - accuracy: 0.6520 - val_loss: 0.6192 - val_accuracy: 0.7362\n",
            "Epoch 4/100\n",
            "66/66 [==============================] - 7s 103ms/step - loss: 0.5897 - accuracy: 0.7406 - val_loss: 0.5085 - val_accuracy: 0.8136\n",
            "Epoch 5/100\n",
            "66/66 [==============================] - 7s 105ms/step - loss: 0.4520 - accuracy: 0.8239 - val_loss: 0.4182 - val_accuracy: 0.8597\n",
            "Epoch 6/100\n",
            "66/66 [==============================] - 7s 105ms/step - loss: 0.3371 - accuracy: 0.8737 - val_loss: 0.3558 - val_accuracy: 0.8892\n",
            "Epoch 7/100\n",
            "66/66 [==============================] - 7s 104ms/step - loss: 0.2329 - accuracy: 0.9204 - val_loss: 0.3211 - val_accuracy: 0.9032\n",
            "Epoch 8/100\n",
            "66/66 [==============================] - 7s 104ms/step - loss: 0.1807 - accuracy: 0.9380 - val_loss: 0.2940 - val_accuracy: 0.9125\n",
            "Epoch 9/100\n",
            "66/66 [==============================] - 7s 103ms/step - loss: 0.1333 - accuracy: 0.9548 - val_loss: 0.2963 - val_accuracy: 0.9144\n",
            "Epoch 10/100\n",
            "66/66 [==============================] - 7s 104ms/step - loss: 0.1100 - accuracy: 0.9627 - val_loss: 0.3026 - val_accuracy: 0.9164\n",
            "Epoch 00010: early stopping\n",
            "113/113 [==============================] - 1s 9ms/step - loss: 0.3026 - accuracy: 0.9164\n",
            "Test accuracy: 0.9163888692855835\n"
          ],
          "name": "stdout"
        },
        {
          "output_type": "execute_result",
          "data": {
            "text/plain": [
              "array([[5.7054574e-14, 2.7527163e-08, 1.0000000e+00],\n",
              "       [9.9617612e-01, 3.7442455e-03, 7.9524849e-05],\n",
              "       [9.9994302e-01, 5.6885554e-05, 7.1847452e-08],\n",
              "       ...,\n",
              "       [9.9997199e-01, 2.8012868e-05, 2.6463598e-08],\n",
              "       [4.5750438e-11, 4.1048625e-07, 9.9999964e-01],\n",
              "       [1.4247131e-10, 1.6829703e-06, 9.9999833e-01]], dtype=float32)"
            ]
          },
          "metadata": {
            "tags": []
          },
          "execution_count": 31
        }
      ]
    },
    {
      "cell_type": "markdown",
      "metadata": {
        "id": "UwQaWvSJYkC5"
      },
      "source": [
        "### Task 4: Reduce the sampling of negative and neutral tweets"
      ]
    },
    {
      "cell_type": "code",
      "metadata": {
        "colab": {
          "base_uri": "https://localhost:8080/"
        },
        "id": "shKrYxvcTKXw",
        "outputId": "b9e4a8f5-908e-4fb7-9b70-a7d8ae6decba"
      },
      "source": [
        "# Reduced value to 5000 from 1000\n",
        "\n",
        "df_Neutral_over = df_Neutral.sample(1000, replace=True)\n",
        "df_Negative_over = df_Negative.sample(1000, replace=True)\n",
        "\n",
        "df = pd.concat([df_Positive, df_Neutral_over, df_Negative_over], axis=0)\n",
        "df.shape"
      ],
      "execution_count": 17,
      "outputs": [
        {
          "output_type": "execute_result",
          "data": {
            "text/plain": [
              "(10000, 9)"
            ]
          },
          "metadata": {
            "tags": []
          },
          "execution_count": 17
        }
      ]
    },
    {
      "cell_type": "code",
      "metadata": {
        "colab": {
          "base_uri": "https://localhost:8080/"
        },
        "id": "P60TomZNiu2y",
        "outputId": "27227560-a688-48be-ff5b-f6b965ea7dca"
      },
      "source": [
        "model.fit(x=X_train, y=y_train, batch_size=256, epochs=100, validation_data=(X_test, y_test), verbose=1, callbacks=early_stop)\n",
        "model_score = model.evaluate(X_test, y_test, batch_size=64, verbose=1)\n",
        "print('Test accuracy:', model_score[1])\n",
        "\n",
        "preds = model.predict(X_test)\n",
        "preds"
      ],
      "execution_count": 30,
      "outputs": [
        {
          "output_type": "stream",
          "text": [
            "Epoch 1/100\n",
            "28/28 [==============================] - 8s 180ms/step - loss: 0.6817 - accuracy: 0.7741 - val_loss: 0.4261 - val_accuracy: 0.8037\n",
            "Epoch 2/100\n",
            "28/28 [==============================] - 4s 157ms/step - loss: 0.3445 - accuracy: 0.8136 - val_loss: 0.4154 - val_accuracy: 0.8407\n",
            "Epoch 3/100\n",
            "28/28 [==============================] - 4s 156ms/step - loss: 0.2399 - accuracy: 0.8942 - val_loss: 0.5117 - val_accuracy: 0.8543\n",
            "Epoch 4/100\n",
            "28/28 [==============================] - 4s 157ms/step - loss: 0.0914 - accuracy: 0.9745 - val_loss: 0.6751 - val_accuracy: 0.8397\n",
            "Epoch 00004: early stopping\n",
            "47/47 [==============================] - 1s 19ms/step - loss: 0.6751 - accuracy: 0.8397\n",
            "Test accuracy: 0.8396666646003723\n"
          ],
          "name": "stdout"
        },
        {
          "output_type": "execute_result",
          "data": {
            "text/plain": [
              "array([[6.32985400e-11, 6.89850310e-07, 9.99999285e-01],\n",
              "       [1.07065225e-05, 2.16048351e-03, 9.97828782e-01],\n",
              "       [3.37494793e-03, 1.60295084e-01, 8.36329997e-01],\n",
              "       ...,\n",
              "       [4.55040038e-07, 1.90220540e-04, 9.99809325e-01],\n",
              "       [9.94203055e-24, 9.36447016e-16, 1.00000000e+00],\n",
              "       [2.95226425e-16, 4.30190883e-11, 1.00000000e+00]], dtype=float32)"
            ]
          },
          "metadata": {
            "tags": []
          },
          "execution_count": 30
        }
      ]
    },
    {
      "cell_type": "markdown",
      "metadata": {
        "id": "YOn8JYNrjYq-"
      },
      "source": [
        "### Task 5: Change the batch size"
      ]
    },
    {
      "cell_type": "code",
      "metadata": {
        "colab": {
          "base_uri": "https://localhost:8080/"
        },
        "id": "4cprNkc2jPwj",
        "outputId": "f757317d-dc44-48de-8e85-6cf97039e035"
      },
      "source": [
        "# Reduced the batch size to 128\n",
        "\n",
        "model.fit(x=X_train, y=y_train, batch_size=128, epochs=100, validation_data=(X_test, y_test), verbose=1, callbacks=early_stop)\n",
        "\n",
        "model_score = model.evaluate(X_test, y_test, batch_size=64, verbose=1)\n",
        "print('Test accuracy:', model_score[1])\n",
        "\n",
        "preds = model.predict(X_test)\n",
        "preds"
      ],
      "execution_count": 48,
      "outputs": [
        {
          "output_type": "stream",
          "text": [
            "Epoch 1/100\n",
            "132/132 [==============================] - 17s 126ms/step - loss: 0.7600 - accuracy: 0.6314 - val_loss: 0.3328 - val_accuracy: 0.8806\n",
            "Epoch 2/100\n",
            "132/132 [==============================] - 16s 123ms/step - loss: 0.1170 - accuracy: 0.9613 - val_loss: 0.2802 - val_accuracy: 0.9149\n",
            "Epoch 3/100\n",
            "132/132 [==============================] - 16s 123ms/step - loss: 0.0246 - accuracy: 0.9933 - val_loss: 0.3662 - val_accuracy: 0.9160\n",
            "Epoch 4/100\n",
            "132/132 [==============================] - 16s 124ms/step - loss: 0.0069 - accuracy: 0.9981 - val_loss: 0.3991 - val_accuracy: 0.9186\n",
            "Epoch 00004: early stopping\n",
            "113/113 [==============================] - 3s 22ms/step - loss: 0.3991 - accuracy: 0.9186\n",
            "Test accuracy: 0.9186111092567444\n"
          ],
          "name": "stdout"
        },
        {
          "output_type": "execute_result",
          "data": {
            "text/plain": [
              "array([[7.4045440e-12, 4.8287491e-10, 1.0000000e+00],\n",
              "       [9.9992275e-01, 4.8921764e-05, 2.8405348e-05],\n",
              "       [9.9996364e-01, 3.5104949e-06, 3.2872715e-05],\n",
              "       ...,\n",
              "       [1.0000000e+00, 6.7116321e-09, 1.3141088e-08],\n",
              "       [1.3525757e-09, 3.2285730e-09, 1.0000000e+00],\n",
              "       [9.6041823e-09, 3.0066314e-08, 1.0000000e+00]], dtype=float32)"
            ]
          },
          "metadata": {
            "tags": []
          },
          "execution_count": 48
        }
      ]
    },
    {
      "cell_type": "code",
      "metadata": {
        "id": "sWUCiNHPjxag"
      },
      "source": [
        ""
      ],
      "execution_count": null,
      "outputs": []
    }
  ]
}