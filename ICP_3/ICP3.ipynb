{
  "nbformat": 4,
  "nbformat_minor": 0,
  "metadata": {
    "colab": {
      "name": "ICP3.ipynb",
      "provenance": [],
      "collapsed_sections": [],
      "authorship_tag": "ABX9TyMzBRJHmNpqHMECkHMJajEn",
      "include_colab_link": true
    },
    "kernelspec": {
      "name": "python3",
      "display_name": "Python 3"
    }
  },
  "cells": [
    {
      "cell_type": "markdown",
      "metadata": {
        "id": "view-in-github",
        "colab_type": "text"
      },
      "source": [
        "<a href=\"https://colab.research.google.com/github/dhairyachandra/KDM_Spring_2021/blob/main/ICP_3/ICP3.ipynb\" target=\"_parent\"><img src=\"https://colab.research.google.com/assets/colab-badge.svg\" alt=\"Open In Colab\"/></a>"
      ]
    },
    {
      "cell_type": "markdown",
      "metadata": {
        "id": "8J93SJgemjFR"
      },
      "source": [
        "# Triplet Extraction "
      ]
    },
    {
      "cell_type": "code",
      "metadata": {
        "colab": {
          "base_uri": "https://localhost:8080/",
          "height": 557
        },
        "id": "84N2wkMqnDIO",
        "outputId": "10ebdc65-392b-4d21-af82-0003c66806cc"
      },
      "source": [
        "import spacy\n",
        "from spacy.lang.en import English\n",
        "import networkx as nx\n",
        "import matplotlib.pyplot as plt\n",
        "\n",
        "# This function is used to import text data and spliting the words\n",
        "\n",
        "def getSentences(text):\n",
        "    nlp = English()\n",
        "    nlp.add_pipe(nlp.create_pipe('sentencizer'))\n",
        "    document = nlp(text)\n",
        "    return [sent.string.strip() for sent in document.sents]\n",
        "\n",
        "# Function used to print word and token Example: \"Twenty -> nummod\"\n",
        "\n",
        "def printToken(token):\n",
        "    print(token.text, \"->\", token.dep_)\n",
        "\n",
        "def appendChunk(original, chunk):\n",
        "    return original + ' ' + chunk\n",
        "\n",
        "# Function to define all relation candidate which is used to define the given text input \n",
        "\n",
        "def isRelationCandidate(token):\n",
        "    deps = [\"ROOT\", \"adj\", \"attr\", \"agent\", \"amod\"]\n",
        "    return any(subs in token.dep_ for subs in deps)\n",
        "\n",
        "# Function to define all construction candidate which is used to define the given text input \n",
        "\n",
        "def isConstructionCandidate(token):\n",
        "    deps = [\"compound\", \"prep\", \"conj\", \"mod\"]\n",
        "    return any(subs in token.dep_ for subs in deps)\n",
        "\n",
        "# This function will pass subject, object, relation, subject construction and object contruction and print triplets of the sentence\n",
        "\n",
        "def processSubjectObjectPairs(tokens):\n",
        "    subject = ''\n",
        "    object = ''\n",
        "    relation = ''\n",
        "    subjectConstruction = ''\n",
        "    objectConstruction = ''\n",
        "    for token in tokens:\n",
        "        printToken(token)\n",
        "        if \"punct\" in token.dep_:\n",
        "            continue\n",
        "        if isRelationCandidate(token):\n",
        "            relation = appendChunk(relation, token.lemma_)\n",
        "        if isConstructionCandidate(token):\n",
        "            if subjectConstruction:\n",
        "                subjectConstruction = appendChunk(subjectConstruction, token.text)\n",
        "            if objectConstruction:\n",
        "                objectConstruction = appendChunk(objectConstruction, token.text)\n",
        "        if \"subj\" in token.dep_:\n",
        "            subject = appendChunk(subject, token.text)\n",
        "            subject = appendChunk(subjectConstruction, subject)\n",
        "            subjectConstruction = ''\n",
        "        if \"obj\" in token.dep_:\n",
        "            object = appendChunk(object, token.text)\n",
        "            object = appendChunk(objectConstruction, object)\n",
        "            objectConstruction = ''\n",
        "\n",
        "# Printing the triplets of the given sentence\n",
        "\n",
        "    print(\"***********************\")\n",
        "    print (\"The triplet of the given sentence is: \", subject.strip(), \",\", relation.strip(), \",\", object.strip())\n",
        "    print(\"***********************\")\n",
        "    return (subject.strip(), relation.strip(), object.strip())\n",
        "   \n",
        "\n",
        "# Function used to return object pairs from the sentence by using NLP_model function\n",
        "\n",
        "def processSentence(sentence):\n",
        "    tokens = nlp_model(sentence)\n",
        "    return processSubjectObjectPairs(tokens)\n",
        "\n",
        "# This function is used to plot node graph of triplets \n",
        "\n",
        "def printGraph(triples):\n",
        "    G = nx.Graph()\n",
        "    for triple in triples:\n",
        "        G.add_node(triple[0])\n",
        "        G.add_node(triple[1])\n",
        "        G.add_node(triple[2])\n",
        "        G.add_edge(triple[0], triple[1])\n",
        "        G.add_edge(triple[1], triple[2])\n",
        "\n",
        "    pos = nx.spring_layout(G)\n",
        "    plt.figure()\n",
        "    nx.draw(G, pos, edge_color='black', width=2, linewidths=2,\n",
        "            node_size=700, node_color='orange', alpha=0.9,\n",
        "            labels={node: node for node in G.nodes()})\n",
        "    plt.axis('off')\n",
        "    plt.show()\n",
        "\n",
        "if __name__ == \"__main__\":\n",
        "\n",
        "# This is sample input text\n",
        "\n",
        "    text = \"Twenty percent electric motors are pulled from an assembly line\"\n",
        "\n",
        "    sentences = getSentences(text)\n",
        "    nlp_model = spacy.load('en_core_web_sm')\n",
        "\n",
        "    triples = []\n",
        "    print (\"Text = \", text)\n",
        "    # printing the relation and construction candidate\n",
        "    for sentence in sentences:\n",
        "        triples.append(processSentence(sentence))\n",
        "\n",
        "# Ploting the nodes of triplets\n",
        "\n",
        "    printGraph(triples)"
      ],
      "execution_count": 23,
      "outputs": [
        {
          "output_type": "stream",
          "text": [
            "Text =  Twenty percent electric motors are pulled from an assembly line\n",
            "Twenty -> nummod\n",
            "percent -> compound\n",
            "electric -> amod\n",
            "motors -> nsubjpass\n",
            "are -> auxpass\n",
            "pulled -> ROOT\n",
            "from -> prep\n",
            "an -> det\n",
            "assembly -> compound\n",
            "line -> pobj\n",
            "***********************\n",
            "The triplet of the given sentence is:  motors , electric pull , line\n",
            "***********************\n"
          ],
          "name": "stdout"
        },
        {
          "output_type": "display_data",
          "data": {
            "image/png": "[encoded data removed]",
            "text/plain": [
              "<Figure size 432x288 with 1 Axes>"
            ]
          },
          "metadata": {
            "tags": []
          }
        }
      ]
    },
    {
      "cell_type": "markdown",
      "metadata": {
        "id": "tQurN0qar-pR"
      },
      "source": [
        "# WordNet Tasks"
      ]
    },
    {
      "cell_type": "code",
      "metadata": {
        "colab": {
          "base_uri": "https://localhost:8080/"
        },
        "id": "UB8DHtBhmdJn",
        "outputId": "b0746dd4-dcda-4e55-aea9-8b9e88b96bf6"
      },
      "source": [
        "import nltk\n",
        "nltk.download('wordnet')\n",
        "\n",
        "from nltk.corpus import wordnet as wn\n",
        "# unambiguous word\n",
        "wn.synsets('motorcar')"
      ],
      "execution_count": 28,
      "outputs": [
        {
          "output_type": "stream",
          "text": [
            "[nltk_data] Downloading package wordnet to /root/nltk_data...\n",
            "[nltk_data]   Package wordnet is already up-to-date!\n"
          ],
          "name": "stdout"
        },
        {
          "output_type": "execute_result",
          "data": {
            "text/plain": [
              "[Synset('car.n.01')]"
            ]
          },
          "metadata": {
            "tags": []
          },
          "execution_count": 28
        }
      ]
    },
    {
      "cell_type": "code",
      "metadata": {
        "colab": {
          "base_uri": "https://localhost:8080/"
        },
        "id": "KcHGnDMKn5Wy",
        "outputId": "2f71b803-8f26-4d2e-851d-2af92fa48ce3"
      },
      "source": [
        "wn.synset('car.n.01').lemma_names()"
      ],
      "execution_count": 12,
      "outputs": [
        {
          "output_type": "execute_result",
          "data": {
            "text/plain": [
              "['car', 'auto', 'automobile', 'machine', 'motorcar']"
            ]
          },
          "metadata": {
            "tags": []
          },
          "execution_count": 12
        }
      ]
    },
    {
      "cell_type": "code",
      "metadata": {
        "colab": {
          "base_uri": "https://localhost:8080/"
        },
        "id": "jpKDoLauoMFJ",
        "outputId": "0a957021-3dd0-4c43-de18-8cd5f7b210bd"
      },
      "source": [
        "# ambiguous word\n",
        "wn.synsets('printer')"
      ],
      "execution_count": 25,
      "outputs": [
        {
          "output_type": "execute_result",
          "data": {
            "text/plain": [
              "[Synset('printer.n.01'), Synset('printer.n.02'), Synset('printer.n.03')]"
            ]
          },
          "metadata": {
            "tags": []
          },
          "execution_count": 25
        }
      ]
    },
    {
      "cell_type": "code",
      "metadata": {
        "colab": {
          "base_uri": "https://localhost:8080/"
        },
        "id": "7WqUupoOoOuT",
        "outputId": "a0d34913-15f6-4c15-a664-c6cd5d146e04"
      },
      "source": [
        "for synset in wn.synsets('printer'):\n",
        "    print(\"\\tLemma: {}\".format(synset.name()))\n",
        "    print(\"\\tDefinition: {}\".format(synset.definition()))\n",
        "    print(\"\\tExample: {}\".format(synset.examples()))\n",
        "    print()"
      ],
      "execution_count": 26,
      "outputs": [
        {
          "output_type": "stream",
          "text": [
            "\tLemma: printer.n.01\n",
            "\tDefinition: someone whose occupation is printing\n",
            "\tExample: []\n",
            "\n",
            "\tLemma: printer.n.02\n",
            "\tDefinition: (computer science) an output device that prints the results of data processing\n",
            "\tExample: []\n",
            "\n",
            "\tLemma: printer.n.03\n",
            "\tDefinition: a machine that prints\n",
            "\tExample: []\n",
            "\n"
          ],
          "name": "stdout"
        }
      ]
    },
    {
      "cell_type": "code",
      "metadata": {
        "colab": {
          "base_uri": "https://localhost:8080/"
        },
        "id": "_x2dtGxQoTn_",
        "outputId": "0236902f-f027-444c-cf0c-3219ef7a6cec"
      },
      "source": [
        "for synset in wn.synsets('printer'):\n",
        "    print(synset.name(), ' -> ', synset.lemmas())"
      ],
      "execution_count": 27,
      "outputs": [
        {
          "output_type": "stream",
          "text": [
            "printer.n.01  ->  [Lemma('printer.n.01.printer'), Lemma('printer.n.01.pressman')]\n",
            "printer.n.02  ->  [Lemma('printer.n.02.printer')]\n",
            "printer.n.03  ->  [Lemma('printer.n.03.printer'), Lemma('printer.n.03.printing_machine')]\n"
          ],
          "name": "stdout"
        }
      ]
    },
    {
      "cell_type": "markdown",
      "metadata": {
        "id": "4XDUSys4omJP"
      },
      "source": [
        "## Hyponym — a more specific concept\n"
      ]
    },
    {
      "cell_type": "code",
      "metadata": {
        "colab": {
          "base_uri": "https://localhost:8080/"
        },
        "id": "6lVDdLy9ofec",
        "outputId": "e9d44dc8-18cd-4228-c8b1-e9a4fe6990d9"
      },
      "source": [
        "machine_that_prints = wn.synset('printer.n.03')\n",
        "sorted([lemma.name() for synset in machine_that_prints.hyponyms() for lemma in synset.lemmas()])"
      ],
      "execution_count": 39,
      "outputs": [
        {
          "output_type": "execute_result",
          "data": {
            "text/plain": [
              "['Addressograph',\n",
              " 'addressing_machine',\n",
              " 'character-at-a-time_printer',\n",
              " 'character_printer',\n",
              " 'electrostatic_printer',\n",
              " 'impact_printer',\n",
              " 'line-at-a-time_printer',\n",
              " 'line_printer',\n",
              " 'page-at-a-time_printer',\n",
              " 'page_printer',\n",
              " 'printer',\n",
              " 'serial_printer',\n",
              " 'thermal_printer',\n",
              " 'typesetting_machine']"
            ]
          },
          "metadata": {
            "tags": []
          },
          "execution_count": 39
        }
      ]
    },
    {
      "cell_type": "markdown",
      "metadata": {
        "id": "DC1veAQoo-JY"
      },
      "source": [
        "## Hypernym — a more general concept.\n"
      ]
    },
    {
      "cell_type": "code",
      "metadata": {
        "colab": {
          "base_uri": "https://localhost:8080/"
        },
        "id": "ueou_tcmpDOZ",
        "outputId": "db5bf3b0-bc61-473a-f5ee-737a4942237c"
      },
      "source": [
        "[lemma.name() for synset in  machine_that_prints.hypernyms() for lemma in synset.lemmas()]"
      ],
      "execution_count": 32,
      "outputs": [
        {
          "output_type": "execute_result",
          "data": {
            "text/plain": [
              "['machine']"
            ]
          },
          "metadata": {
            "tags": []
          },
          "execution_count": 32
        }
      ]
    },
    {
      "cell_type": "code",
      "metadata": {
        "colab": {
          "base_uri": "https://localhost:8080/"
        },
        "id": "Ks6Gfnn6peXl",
        "outputId": "cf7b026b-1dbc-4dd9-8563-afa6e11d2df4"
      },
      "source": [
        "machine_that_prints.root_hypernyms()"
      ],
      "execution_count": 33,
      "outputs": [
        {
          "output_type": "execute_result",
          "data": {
            "text/plain": [
              "[Synset('entity.n.01')]"
            ]
          },
          "metadata": {
            "tags": []
          },
          "execution_count": 33
        }
      ]
    },
    {
      "cell_type": "code",
      "metadata": {
        "colab": {
          "base_uri": "https://localhost:8080/"
        },
        "id": "mW6uQHF1p2Dh",
        "outputId": "ca9c76a5-8fdf-4b5f-e834-8e807b80bb00"
      },
      "source": [
        "[synset.name() for synset in machine_that_prints.hypernym_paths()[0]]"
      ],
      "execution_count": 34,
      "outputs": [
        {
          "output_type": "execute_result",
          "data": {
            "text/plain": [
              "['entity.n.01',\n",
              " 'physical_entity.n.01',\n",
              " 'object.n.01',\n",
              " 'whole.n.02',\n",
              " 'artifact.n.01',\n",
              " 'instrumentality.n.03',\n",
              " 'device.n.01',\n",
              " 'machine.n.01',\n",
              " 'printer.n.03']"
            ]
          },
          "metadata": {
            "tags": []
          },
          "execution_count": 34
        }
      ]
    },
    {
      "cell_type": "markdown",
      "metadata": {
        "id": "NKvMsKE3qZoa"
      },
      "source": [
        "## Meronym — denotes a part of something\n"
      ]
    },
    {
      "cell_type": "code",
      "metadata": {
        "colab": {
          "base_uri": "https://localhost:8080/"
        },
        "id": "9D8IJ072p73B",
        "outputId": "01ead1b8-461b-498b-978f-6dcbf1cda8e0"
      },
      "source": [
        "tree = wn.synset('tree.n.01')\n",
        "\n",
        "# part_meronyms() - obtains parts\n",
        "\n",
        "tree.part_meronyms()"
      ],
      "execution_count": 42,
      "outputs": [
        {
          "output_type": "execute_result",
          "data": {
            "text/plain": [
              "[Synset('burl.n.02'),\n",
              " Synset('crown.n.07'),\n",
              " Synset('limb.n.02'),\n",
              " Synset('stump.n.01'),\n",
              " Synset('trunk.n.01')]"
            ]
          },
          "metadata": {
            "tags": []
          },
          "execution_count": 42
        }
      ]
    },
    {
      "cell_type": "code",
      "metadata": {
        "colab": {
          "base_uri": "https://localhost:8080/"
        },
        "id": "mBQMp4iaqyBI",
        "outputId": "d07b0d06-7fbc-4891-95af-ae2b07db283c"
      },
      "source": [
        "# substance_meronyms() - obtains substances\n",
        "\n",
        "tree.substance_meronyms()"
      ],
      "execution_count": 38,
      "outputs": [
        {
          "output_type": "execute_result",
          "data": {
            "text/plain": [
              "[Synset('heartwood.n.01'), Synset('sapwood.n.01')]"
            ]
          },
          "metadata": {
            "tags": []
          },
          "execution_count": 38
        }
      ]
    },
    {
      "cell_type": "markdown",
      "metadata": {
        "id": "We0TX_JkrPH0"
      },
      "source": [
        "## Holonym — denotes a membership to something"
      ]
    },
    {
      "cell_type": "code",
      "metadata": {
        "colab": {
          "base_uri": "https://localhost:8080/"
        },
        "id": "jqrYiqxqq3NA",
        "outputId": "e416c7fd-6553-4463-86d5-a73bb3ef9e52"
      },
      "source": [
        "wn.synset('atom.n.01').part_holonyms()"
      ],
      "execution_count": 43,
      "outputs": [
        {
          "output_type": "execute_result",
          "data": {
            "text/plain": [
              "[Synset('chemical_element.n.01'), Synset('molecule.n.01')]"
            ]
          },
          "metadata": {
            "tags": []
          },
          "execution_count": 43
        }
      ]
    },
    {
      "cell_type": "code",
      "metadata": {
        "colab": {
          "base_uri": "https://localhost:8080/"
        },
        "id": "TKGcguEirlwu",
        "outputId": "c5264544-75dc-4f96-c86c-503b6435aa8f"
      },
      "source": [
        "wn.synset('hydrogen.n.01').substance_holonyms()"
      ],
      "execution_count": 44,
      "outputs": [
        {
          "output_type": "execute_result",
          "data": {
            "text/plain": [
              "[Synset('water.n.01')]"
            ]
          },
          "metadata": {
            "tags": []
          },
          "execution_count": 44
        }
      ]
    },
    {
      "cell_type": "markdown",
      "metadata": {
        "id": "tRzRx9kNr7QA"
      },
      "source": [
        "## Entailment — denotes how verbs are involved"
      ]
    },
    {
      "cell_type": "code",
      "metadata": {
        "colab": {
          "base_uri": "https://localhost:8080/"
        },
        "id": "hNnOyDH4roR_",
        "outputId": "9a8e80c2-d895-4d76-8b72-0f908fe13789"
      },
      "source": [
        "wn.synset('eat.v.01').entailments()"
      ],
      "execution_count": 45,
      "outputs": [
        {
          "output_type": "execute_result",
          "data": {
            "text/plain": [
              "[Synset('chew.v.01'), Synset('swallow.v.01')]"
            ]
          },
          "metadata": {
            "tags": []
          },
          "execution_count": 45
        }
      ]
    }
  ]
}