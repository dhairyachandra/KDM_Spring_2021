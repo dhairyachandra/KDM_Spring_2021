{
  "nbformat": 4,
  "nbformat_minor": 0,
  "metadata": {
    "colab": {
      "name": "ICP11_Code.ipynb",
      "provenance": [],
      "authorship_tag": "ABX9TyNrqwsdgImR4Ex/w1FAZ9uC",
      "include_colab_link": true
    },
    "kernelspec": {
      "name": "python3",
      "display_name": "Python 3"
    },
    "language_info": {
      "name": "python"
    },
    "accelerator": "GPU"
  },
  "cells": [
    {
      "cell_type": "markdown",
      "metadata": {
        "id": "view-in-github",
        "colab_type": "text"
      },
      "source": [
        "<a href=\"https://colab.research.google.com/github/dhairyachandra/KDM_Spring_2021/blob/main/ICP_11/ICP11_Code.ipynb\" target=\"_parent\"><img src=\"https://colab.research.google.com/assets/colab-badge.svg\" alt=\"Open In Colab\"/></a>"
      ]
    },
    {
      "cell_type": "code",
      "metadata": {
        "id": "xHbcYobh9A5J"
      },
      "source": [
        "# import libraries\n",
        "\n",
        "import numpy as np\n",
        "import matplotlib.pyplot as plt\n",
        "%matplotlib inline\n",
        "import tensorflow as tf\n",
        "from keras.datasets import mnist, fashion_mnist\n",
        "from keras.models import Sequential\n",
        "from keras.layers import Conv2D, MaxPooling2D, Dense, Flatten, Activation\n",
        "from keras.utils import to_categorical"
      ],
      "execution_count": 1,
      "outputs": []
    },
    {
      "cell_type": "code",
      "metadata": {
        "colab": {
          "base_uri": "https://localhost:8080/"
        },
        "id": "Y0s9vT1y9Kl1",
        "outputId": "c364aa04-85ed-4ec1-bdca-c18fbce1203a"
      },
      "source": [
        "(train_images, train_labels), (test_images, test_labels) = fashion_mnist.load_data()\n",
        "\n",
        "\n",
        "# Split dataset into images and labels\n",
        "train_images, train_labels = train_images, train_labels\n",
        "test_images, test_labels = test_images, test_labels\n",
        "# Class names (needed only for illustration purposes)\n",
        "class_names = ['T-shirt/top', 'Trouser', 'Pullover', 'Dress',\n",
        "                   'Coat', 'Sandal', 'Shirt', 'Sneaker', 'Bag', 'Ankle boot']"
      ],
      "execution_count": 2,
      "outputs": [
        {
          "output_type": "stream",
          "text": [
            "Downloading data from https://storage.googleapis.com/tensorflow/tf-keras-datasets/train-labels-idx1-ubyte.gz\n",
            "32768/29515 [=================================] - 0s 0us/step\n",
            "Downloading data from https://storage.googleapis.com/tensorflow/tf-keras-datasets/train-images-idx3-ubyte.gz\n",
            "26427392/26421880 [==============================] - 0s 0us/step\n",
            "Downloading data from https://storage.googleapis.com/tensorflow/tf-keras-datasets/t10k-labels-idx1-ubyte.gz\n",
            "8192/5148 [===============================================] - 0s 0us/step\n",
            "Downloading data from https://storage.googleapis.com/tensorflow/tf-keras-datasets/t10k-images-idx3-ubyte.gz\n",
            "4423680/4422102 [==============================] - 0s 0us/step\n"
          ],
          "name": "stdout"
        }
      ]
    },
    {
      "cell_type": "code",
      "metadata": {
        "colab": {
          "base_uri": "https://localhost:8080/"
        },
        "id": "fjMJ2qsb9Zfh",
        "outputId": "78dfcc0f-537d-4d51-ca3d-105cc54c637d"
      },
      "source": [
        "# Display information about the dataset\n",
        "print(\"Training Data: {}, Labels Shape: {}\".format(train_images.shape, train_labels.shape))\n",
        "print(\"Testing Data {}, Labels Shape: {}\".format(test_images.shape, test_labels.shape))"
      ],
      "execution_count": 3,
      "outputs": [
        {
          "output_type": "stream",
          "text": [
            "Training Data: (60000, 28, 28), Labels Shape: (60000,)\n",
            "Testing Data (10000, 28, 28), Labels Shape: (10000,)\n"
          ],
          "name": "stdout"
        }
      ]
    },
    {
      "cell_type": "code",
      "metadata": {
        "colab": {
          "base_uri": "https://localhost:8080/",
          "height": 416
        },
        "id": "2CtiVdB29b3X",
        "outputId": "afe4d784-458d-4969-fe5d-b9786870c096"
      },
      "source": [
        "print(\"5 Images from the Training Data:\")\n",
        "plt.figure(figsize=(10, 10))\n",
        "for i in range(5):\n",
        "    plt.subplot(5, 5, i+1)\n",
        "    plt.xticks([])\n",
        "    plt.yticks([])\n",
        "    plt.imshow(train_images[i], cmap=plt.cm.binary)\n",
        "    plt.xlabel(class_names[train_labels[i]])\n",
        "    plt.show()\n"
      ],
      "execution_count": 5,
      "outputs": [
        {
          "output_type": "stream",
          "text": [
            "5 Images from the Training Data:\n"
          ],
          "name": "stdout"
        },
        {
          "output_type": "display_data",
          "data": {
            "image/png": "[encoded data removed]",
            "text/plain": [
              "<Figure size 720x720 with 1 Axes>"
            ]
          },
          "metadata": {
            "tags": []
          }
        },
        {
          "output_type": "display_data",
          "data": {
            "image/png": "[encoded data removed]",
            "text/plain": [
              "<Figure size 432x288 with 1 Axes>"
            ]
          },
          "metadata": {
            "tags": []
          }
        },
        {
          "output_type": "display_data",
          "data": {
            "image/png": "[encoded data removed]",
            "text/plain": [
              "<Figure size 432x288 with 1 Axes>"
            ]
          },
          "metadata": {
            "tags": []
          }
        },
        {
          "output_type": "display_data",
          "data": {
            "image/png": "[encoded data removed]",
            "text/plain": [
              "<Figure size 432x288 with 1 Axes>"
            ]
          },
          "metadata": {
            "tags": []
          }
        },
        {
          "output_type": "display_data",
          "data": {
            "image/png": "[encoded data removed]",
            "text/plain": [
              "<Figure size 432x288 with 1 Axes>"
            ]
          },
          "metadata": {
            "tags": []
          }
        }
      ]
    },
    {
      "cell_type": "code",
      "metadata": {
        "id": "xIK9KSVz9eJS"
      },
      "source": [
        "# Normalize the images.\n",
        "train_images = (train_images / 255) - 0.5\n",
        "test_images = (test_images / 255) - 0.5\n",
        "\n",
        "# Reshape the images.\n",
        "train_images = np.expand_dims(train_images, axis=3)\n",
        "test_images = np.expand_dims(test_images, axis=3)\n",
        "\n",
        "num_filters = 8\n",
        "filter_size = 3\n",
        "pool_size = 2\n",
        "\n",
        "\n",
        "# Build the model.\n",
        "model = Sequential([\n",
        "    Conv2D(num_filters, filter_size, input_shape=(28, 28, 1)),\n",
        "    Activation('relu'),\n",
        "    MaxPooling2D(pool_size=pool_size),\n",
        "    \n",
        "    Conv2D(num_filters, filter_size),\n",
        "    Activation('relu'),\n",
        "    MaxPooling2D(pool_size=pool_size),\n",
        "    Flatten(),\n",
        "    \n",
        "    Dense(10, activation='softmax'),\n",
        "])\n",
        "\n",
        "# Compile the model.\n",
        "model.compile(\n",
        "  'adam',\n",
        "  loss='categorical_crossentropy',\n",
        "  metrics=['accuracy'],\n",
        ")"
      ],
      "execution_count": 6,
      "outputs": []
    },
    {
      "cell_type": "code",
      "metadata": {
        "colab": {
          "base_uri": "https://localhost:8080/"
        },
        "id": "Z6WnCaEs9kr5",
        "outputId": "a8af433b-7d37-4635-b476-de8d8acab719"
      },
      "source": [
        "# Train the model.\n",
        "h = model.fit(\n",
        "  train_images,\n",
        "  to_categorical(train_labels),\n",
        "  epochs=50, batch_size=64,\n",
        "  validation_data=(test_images, to_categorical(test_labels)),\n",
        ")"
      ],
      "execution_count": 7,
      "outputs": [
        {
          "output_type": "stream",
          "text": [
            "Epoch 1/50\n",
            "938/938 [==============================] - 36s 4ms/step - loss: 1.0495 - accuracy: 0.6357 - val_loss: 0.5371 - val_accuracy: 0.8032\n",
            "Epoch 2/50\n",
            "938/938 [==============================] - 3s 3ms/step - loss: 0.5039 - accuracy: 0.8160 - val_loss: 0.4727 - val_accuracy: 0.8315\n",
            "Epoch 3/50\n",
            "938/938 [==============================] - 3s 3ms/step - loss: 0.4558 - accuracy: 0.8359 - val_loss: 0.4530 - val_accuracy: 0.8385\n",
            "Epoch 4/50\n",
            "938/938 [==============================] - 3s 3ms/step - loss: 0.4222 - accuracy: 0.8506 - val_loss: 0.4295 - val_accuracy: 0.8441\n",
            "Epoch 5/50\n",
            "938/938 [==============================] - 3s 3ms/step - loss: 0.4034 - accuracy: 0.8561 - val_loss: 0.4101 - val_accuracy: 0.8510\n",
            "Epoch 6/50\n",
            "938/938 [==============================] - 3s 3ms/step - loss: 0.3933 - accuracy: 0.8590 - val_loss: 0.3961 - val_accuracy: 0.8583\n",
            "Epoch 7/50\n",
            "938/938 [==============================] - 3s 3ms/step - loss: 0.3768 - accuracy: 0.8629 - val_loss: 0.3910 - val_accuracy: 0.8584\n",
            "Epoch 8/50\n",
            "938/938 [==============================] - 3s 3ms/step - loss: 0.3656 - accuracy: 0.8692 - val_loss: 0.3839 - val_accuracy: 0.8604\n",
            "Epoch 9/50\n",
            "938/938 [==============================] - 3s 3ms/step - loss: 0.3589 - accuracy: 0.8724 - val_loss: 0.3741 - val_accuracy: 0.8654\n",
            "Epoch 10/50\n",
            "938/938 [==============================] - 3s 3ms/step - loss: 0.3572 - accuracy: 0.8718 - val_loss: 0.3719 - val_accuracy: 0.8653\n",
            "Epoch 11/50\n",
            "938/938 [==============================] - 3s 3ms/step - loss: 0.3468 - accuracy: 0.8764 - val_loss: 0.3646 - val_accuracy: 0.8690\n",
            "Epoch 12/50\n",
            "938/938 [==============================] - 3s 3ms/step - loss: 0.3466 - accuracy: 0.8749 - val_loss: 0.3680 - val_accuracy: 0.8690\n",
            "Epoch 13/50\n",
            "938/938 [==============================] - 3s 3ms/step - loss: 0.3330 - accuracy: 0.8808 - val_loss: 0.3548 - val_accuracy: 0.8730\n",
            "Epoch 14/50\n",
            "938/938 [==============================] - 3s 3ms/step - loss: 0.3274 - accuracy: 0.8829 - val_loss: 0.3519 - val_accuracy: 0.8741\n",
            "Epoch 15/50\n",
            "938/938 [==============================] - 3s 3ms/step - loss: 0.3269 - accuracy: 0.8832 - val_loss: 0.3563 - val_accuracy: 0.8714\n",
            "Epoch 16/50\n",
            "938/938 [==============================] - 3s 3ms/step - loss: 0.3208 - accuracy: 0.8844 - val_loss: 0.3440 - val_accuracy: 0.8773\n",
            "Epoch 17/50\n",
            "938/938 [==============================] - 3s 3ms/step - loss: 0.3128 - accuracy: 0.8876 - val_loss: 0.3500 - val_accuracy: 0.8764\n",
            "Epoch 18/50\n",
            "938/938 [==============================] - 3s 3ms/step - loss: 0.3062 - accuracy: 0.8897 - val_loss: 0.3346 - val_accuracy: 0.8798\n",
            "Epoch 19/50\n",
            "938/938 [==============================] - 3s 3ms/step - loss: 0.3069 - accuracy: 0.8901 - val_loss: 0.3381 - val_accuracy: 0.8794\n",
            "Epoch 20/50\n",
            "938/938 [==============================] - 3s 3ms/step - loss: 0.3037 - accuracy: 0.8898 - val_loss: 0.3306 - val_accuracy: 0.8819\n",
            "Epoch 21/50\n",
            "938/938 [==============================] - 3s 3ms/step - loss: 0.3037 - accuracy: 0.8911 - val_loss: 0.3328 - val_accuracy: 0.8814\n",
            "Epoch 22/50\n",
            "938/938 [==============================] - 3s 3ms/step - loss: 0.2994 - accuracy: 0.8920 - val_loss: 0.3452 - val_accuracy: 0.8741\n",
            "Epoch 23/50\n",
            "938/938 [==============================] - 3s 3ms/step - loss: 0.3002 - accuracy: 0.8923 - val_loss: 0.3280 - val_accuracy: 0.8843\n",
            "Epoch 24/50\n",
            "938/938 [==============================] - 3s 3ms/step - loss: 0.2921 - accuracy: 0.8959 - val_loss: 0.3253 - val_accuracy: 0.8835\n",
            "Epoch 25/50\n",
            "938/938 [==============================] - 3s 3ms/step - loss: 0.2901 - accuracy: 0.8967 - val_loss: 0.3255 - val_accuracy: 0.8840\n",
            "Epoch 26/50\n",
            "938/938 [==============================] - 3s 3ms/step - loss: 0.2884 - accuracy: 0.8963 - val_loss: 0.3364 - val_accuracy: 0.8746\n",
            "Epoch 27/50\n",
            "938/938 [==============================] - 3s 3ms/step - loss: 0.2934 - accuracy: 0.8956 - val_loss: 0.3264 - val_accuracy: 0.8846\n",
            "Epoch 28/50\n",
            "938/938 [==============================] - 3s 3ms/step - loss: 0.2826 - accuracy: 0.8985 - val_loss: 0.3270 - val_accuracy: 0.8826\n",
            "Epoch 29/50\n",
            "938/938 [==============================] - 3s 3ms/step - loss: 0.2798 - accuracy: 0.8996 - val_loss: 0.3232 - val_accuracy: 0.8850\n",
            "Epoch 30/50\n",
            "938/938 [==============================] - 3s 3ms/step - loss: 0.2840 - accuracy: 0.8986 - val_loss: 0.3251 - val_accuracy: 0.8844\n",
            "Epoch 31/50\n",
            "938/938 [==============================] - 3s 3ms/step - loss: 0.2808 - accuracy: 0.8976 - val_loss: 0.3172 - val_accuracy: 0.8849\n",
            "Epoch 32/50\n",
            "938/938 [==============================] - 3s 3ms/step - loss: 0.2834 - accuracy: 0.8972 - val_loss: 0.3186 - val_accuracy: 0.8855\n",
            "Epoch 33/50\n",
            "938/938 [==============================] - 3s 3ms/step - loss: 0.2753 - accuracy: 0.9023 - val_loss: 0.3182 - val_accuracy: 0.8850\n",
            "Epoch 34/50\n",
            "938/938 [==============================] - 3s 3ms/step - loss: 0.2768 - accuracy: 0.9008 - val_loss: 0.3289 - val_accuracy: 0.8814\n",
            "Epoch 35/50\n",
            "938/938 [==============================] - 3s 3ms/step - loss: 0.2741 - accuracy: 0.9007 - val_loss: 0.3232 - val_accuracy: 0.8842\n",
            "Epoch 36/50\n",
            "938/938 [==============================] - 3s 3ms/step - loss: 0.2760 - accuracy: 0.9012 - val_loss: 0.3186 - val_accuracy: 0.8841\n",
            "Epoch 37/50\n",
            "938/938 [==============================] - 3s 3ms/step - loss: 0.2742 - accuracy: 0.9007 - val_loss: 0.3152 - val_accuracy: 0.8858\n",
            "Epoch 38/50\n",
            "938/938 [==============================] - 3s 3ms/step - loss: 0.2774 - accuracy: 0.9008 - val_loss: 0.3275 - val_accuracy: 0.8829\n",
            "Epoch 39/50\n",
            "938/938 [==============================] - 3s 3ms/step - loss: 0.2722 - accuracy: 0.9005 - val_loss: 0.3221 - val_accuracy: 0.8843\n",
            "Epoch 40/50\n",
            "938/938 [==============================] - 3s 3ms/step - loss: 0.2780 - accuracy: 0.8990 - val_loss: 0.3300 - val_accuracy: 0.8808\n",
            "Epoch 41/50\n",
            "938/938 [==============================] - 3s 3ms/step - loss: 0.2699 - accuracy: 0.9019 - val_loss: 0.3202 - val_accuracy: 0.8848\n",
            "Epoch 42/50\n",
            "938/938 [==============================] - 3s 3ms/step - loss: 0.2701 - accuracy: 0.9019 - val_loss: 0.3200 - val_accuracy: 0.8863\n",
            "Epoch 43/50\n",
            "938/938 [==============================] - 3s 3ms/step - loss: 0.2719 - accuracy: 0.9014 - val_loss: 0.3263 - val_accuracy: 0.8838\n",
            "Epoch 44/50\n",
            "938/938 [==============================] - 3s 3ms/step - loss: 0.2696 - accuracy: 0.9015 - val_loss: 0.3146 - val_accuracy: 0.8887\n",
            "Epoch 45/50\n",
            "938/938 [==============================] - 3s 3ms/step - loss: 0.2705 - accuracy: 0.9026 - val_loss: 0.3155 - val_accuracy: 0.8875\n",
            "Epoch 46/50\n",
            "938/938 [==============================] - 3s 3ms/step - loss: 0.2716 - accuracy: 0.9021 - val_loss: 0.3193 - val_accuracy: 0.8870\n",
            "Epoch 47/50\n",
            "938/938 [==============================] - 3s 3ms/step - loss: 0.2695 - accuracy: 0.9020 - val_loss: 0.3218 - val_accuracy: 0.8865\n",
            "Epoch 48/50\n",
            "938/938 [==============================] - 3s 3ms/step - loss: 0.2672 - accuracy: 0.9039 - val_loss: 0.3165 - val_accuracy: 0.8876\n",
            "Epoch 49/50\n",
            "938/938 [==============================] - 3s 3ms/step - loss: 0.2655 - accuracy: 0.9033 - val_loss: 0.3175 - val_accuracy: 0.8875\n",
            "Epoch 50/50\n",
            "938/938 [==============================] - 3s 3ms/step - loss: 0.2706 - accuracy: 0.9026 - val_loss: 0.3145 - val_accuracy: 0.8888\n"
          ],
          "name": "stdout"
        }
      ]
    },
    {
      "cell_type": "code",
      "metadata": {
        "colab": {
          "base_uri": "https://localhost:8080/"
        },
        "id": "89tILfdk9nD5",
        "outputId": "eaaff6c4-340a-4274-e198-b9d5bb8493e4"
      },
      "source": [
        "# printing the summary\n",
        "print(model.summary())"
      ],
      "execution_count": 8,
      "outputs": [
        {
          "output_type": "stream",
          "text": [
            "Model: \"sequential\"\n",
            "_________________________________________________________________\n",
            "Layer (type)                 Output Shape              Param #   \n",
            "=================================================================\n",
            "conv2d (Conv2D)              (None, 26, 26, 8)         80        \n",
            "_________________________________________________________________\n",
            "activation (Activation)      (None, 26, 26, 8)         0         \n",
            "_________________________________________________________________\n",
            "max_pooling2d (MaxPooling2D) (None, 13, 13, 8)         0         \n",
            "_________________________________________________________________\n",
            "conv2d_1 (Conv2D)            (None, 11, 11, 8)         584       \n",
            "_________________________________________________________________\n",
            "activation_1 (Activation)    (None, 11, 11, 8)         0         \n",
            "_________________________________________________________________\n",
            "max_pooling2d_1 (MaxPooling2 (None, 5, 5, 8)           0         \n",
            "_________________________________________________________________\n",
            "flatten (Flatten)            (None, 200)               0         \n",
            "_________________________________________________________________\n",
            "dense (Dense)                (None, 10)                2010      \n",
            "=================================================================\n",
            "Total params: 2,674\n",
            "Trainable params: 2,674\n",
            "Non-trainable params: 0\n",
            "_________________________________________________________________\n",
            "None\n"
          ],
          "name": "stdout"
        }
      ]
    },
    {
      "cell_type": "code",
      "metadata": {
        "colab": {
          "base_uri": "https://localhost:8080/",
          "height": 295
        },
        "id": "JCUAkt5F90Tt",
        "outputId": "5965b185-4d57-4e63-d0e5-d87512da8388"
      },
      "source": [
        "# plot the acc and val_acc\n",
        "plt.plot(h.history['accuracy'])\n",
        "plt.plot(h.history['val_accuracy'])\n",
        "plt.title('model loss')\n",
        "plt.ylabel('loss')\n",
        "plt.xlabel('epoch')\n",
        "plt.legend(['acc', 'val_acc'], loc='upper left')\n",
        "plt.show()"
      ],
      "execution_count": 11,
      "outputs": [
        {
          "output_type": "display_data",
          "data": {
            "image/png": "[encoded data removed]",
            "text/plain": [
              "<Figure size 432x288 with 1 Axes>"
            ]
          },
          "metadata": {
            "tags": [],
            "needs_background": "light"
          }
        }
      ]
    },
    {
      "cell_type": "code",
      "metadata": {
        "colab": {
          "base_uri": "https://localhost:8080/",
          "height": 295
        },
        "id": "cgV1FeSz92oS",
        "outputId": "d231e509-f891-4dfe-ad6e-32bc94fd2822"
      },
      "source": [
        "# plot the loss and val_loss\n",
        "plt.plot(h.history['loss'])\n",
        "plt.plot(h.history['val_loss'])\n",
        "plt.title('model loss')\n",
        "plt.ylabel('loss')\n",
        "plt.xlabel('epoch')\n",
        "plt.legend(['loss', 'val_loss'], loc='upper left')\n",
        "plt.show()"
      ],
      "execution_count": 12,
      "outputs": [
        {
          "output_type": "display_data",
          "data": {
            "image/png": "[encoded data removed]",
            "text/plain": [
              "<Figure size 432x288 with 1 Axes>"
            ]
          },
          "metadata": {
            "tags": [],
            "needs_background": "light"
          }
        }
      ]
    },
    {
      "cell_type": "code",
      "metadata": {
        "id": "U35sae7994FF"
      },
      "source": [
        "# Predict on the first 5 test images.\n",
        "predictions = model.predict(test_images[:5])"
      ],
      "execution_count": 13,
      "outputs": []
    },
    {
      "cell_type": "code",
      "metadata": {
        "colab": {
          "base_uri": "https://localhost:8080/"
        },
        "id": "Y8vg2gfA96B0",
        "outputId": "d10f8b8a-8fa8-40a0-8da7-f91e07aa6f83"
      },
      "source": [
        "# Print our model's predictions.\n",
        "print(\"These are the model predictions :\")\n",
        "print(np.argmax(predictions, axis=1)) \n",
        "print(\"\\n\")\n",
        "\n",
        "# Check our predictions against the ground truths.\n",
        "print(\"These are the corresponding labels :\")\n",
        "print(test_labels[:5]) "
      ],
      "execution_count": 14,
      "outputs": [
        {
          "output_type": "stream",
          "text": [
            "These are the model predictions :\n",
            "[9 2 1 1 6]\n",
            "\n",
            "\n",
            "These are the corresponding labels :\n",
            "[9 2 1 1 6]\n"
          ],
          "name": "stdout"
        }
      ]
    },
    {
      "cell_type": "code",
      "metadata": {
        "id": "XNAHjG-W9-K-"
      },
      "source": [
        ""
      ],
      "execution_count": null,
      "outputs": []
    }
  ]
}